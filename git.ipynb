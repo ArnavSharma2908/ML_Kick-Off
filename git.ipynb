{
 "cells": [
  {
   "cell_type": "markdown",
   "metadata": {},
   "source": [
    "# **GIT Commands**"
   ]
  },
  {
   "cell_type": "markdown",
   "metadata": {},
   "source": [
    "## Git Configuration\n",
    "Configuration has 3 levels\n",
    "\n",
    "    git config --system\n",
    "    git config --global\n",
    "    git config\n"
   ]
  },
  {
   "cell_type": "code",
   "execution_count": null,
   "metadata": {
    "vscode": {
     "languageId": "git-rebase"
    }
   },
   "outputs": [],
   "source": [
    "git config --global user.name \"Your Name\"\n",
    "git config --global user.email \"you@example.com\"\n",
    "git config --global core.editor \"editor-name\"\n",
    "git config --global init.defaultBranch main\n",
    "git config --global color.ui auto\n",
    "git config --list"
   ]
  },
  {
   "cell_type": "markdown",
   "metadata": {},
   "source": [
    "## Git Repo Initialization"
   ]
  },
  {
   "cell_type": "code",
   "execution_count": null,
   "metadata": {
    "vscode": {
     "languageId": "git-rebase"
    }
   },
   "outputs": [],
   "source": [
    "git init\n",
    "git clone <https://github.com/xyz/abc.git>"
   ]
  },
  {
   "cell_type": "markdown",
   "metadata": {},
   "source": [
    "## Git Basics"
   ]
  },
  {
   "cell_type": "code",
   "execution_count": null,
   "metadata": {
    "vscode": {
     "languageId": "git-rebase"
    }
   },
   "outputs": [],
   "source": [
    "git add <file>\n",
    "git add .\n",
    "git add -A\n",
    "git add *\n",
    "git add -i\n",
    "git add -p\n",
    "git add -u\n",
    "git add -v\n",
    "git add --dry-run <file>\n",
    "git add --ignore-removal\n",
    "git add '*.txt'\n",
    "git add -u <path>\n",
    "git add --intent-to-add <file>"
   ]
  },
  {
   "cell_type": "code",
   "execution_count": null,
   "metadata": {
    "vscode": {
     "languageId": "git-rebase"
    }
   },
   "outputs": [],
   "source": [
    "git commit -m \"commit message\"\n",
    "git commit\n",
    "git commit --amend\n",
    "git commit --amend -m \"new message\"\n",
    "git rebase -i <commit-id>\n",
    "git commit -p\n",
    "git commit <file1> <file2>\n",
    "git commit -F <file>\n",
    "git commit -F -\n",
    "git commit --allow-empty -m \"commit message\"\n",
    "git commit --reuse-message=HEAD\n",
    "git commit --reuse-message=<commit-id>\n",
    "git commit --template=<file>\n",
    "git commit -S -m \"commit message\"\n",
    "git commit --author=\"Author Name <email@example.com>\"\n",
    "GIT_COMMITTER_DATE=\"YYYY-MM-DD HH:MM\" git commit -m \"commit message\"\n",
    "git commit --no-verify -m \"commit message\"\n",
    "git commit --only -m \"$(git status)\"\n",
    "git commit --dry-run\n",
    "git commit --verbose -m \"commit message\"\n",
    "git commit --no-edit\n",
    "git revert HEAD\n",
    "git reset --soft HEAD~1\n",
    "git commit -s -m \"commit message\"\n"
   ]
  },
  {
   "cell_type": "code",
   "execution_count": null,
   "metadata": {
    "vscode": {
     "languageId": "git-rebase"
    }
   },
   "outputs": [],
   "source": [
    "git restore <file>\n",
    "git restore .\n",
    "git restore --staged <file>\n",
    "git restore --staged .\n",
    "git restore --source <commit-id> <file>\n",
    "git restore --source <commit-id> <file1> <file2>\n",
    "git restore '*.txt'\n",
    "git restore -i\n",
    "git restore --source <commit-id> --staged <file>\n",
    "git restore --chmod=+x <file>\n",
    "git restore --dry-run <file>\n",
    "git restore --verbose <file>\n",
    "git restore --ours <file>\n",
    "git restore --theirs <file>\n",
    "git restore --source=HEAD <file>\n",
    "git restore --source <commit-id> -- <path>\n",
    "git restore --help"
   ]
  },
  {
   "cell_type": "code",
   "execution_count": null,
   "metadata": {
    "vscode": {
     "languageId": "git-rebase"
    }
   },
   "outputs": [],
   "source": []
  }
 ],
 "metadata": {
  "kernelspec": {
   "display_name": "Python 3 (ipykernel)",
   "language": "python",
   "name": "python3"
  },
  "language_info": {
   "codemirror_mode": {
    "name": "ipython",
    "version": 3
   },
   "file_extension": ".py",
   "mimetype": "text/x-python",
   "name": "python",
   "nbconvert_exporter": "python",
   "pygments_lexer": "ipython3",
   "version": "3.12.6"
  }
 },
 "nbformat": 4,
 "nbformat_minor": 4
}
