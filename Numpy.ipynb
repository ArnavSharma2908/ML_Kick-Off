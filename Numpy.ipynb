{
 "cells": [
  {
   "cell_type": "markdown",
   "id": "65aa2bd8-970a-49e4-971b-dbc4cbe6b519",
   "metadata": {},
   "source": [
    "# **Numpy**: **Num**erical **Py**thon\n",
    "### Notes By: *Arnav*\n",
    "\n",
    "##### Abstract: This notebook is made on Jupyter-Notebook in IPython Kernel Detailing about Python Library \"Numpy\" possessing multiple source including [W3School](https://www.w3schools.com/python/numpy)"
   ]
  },
  {
   "cell_type": "markdown",
   "id": "30d23612-a183-492a-a235-99f57a5222f0",
   "metadata": {
    "jp-MarkdownHeadingCollapsed": true
   },
   "source": [
    "### Basic Importing, Aliasing and Display"
   ]
  },
  {
   "cell_type": "code",
   "execution_count": 1,
   "id": "a6723309-6fc2-498e-b53d-82808aac9d77",
   "metadata": {},
   "outputs": [],
   "source": [
    "import numpy as np"
   ]
  },
  {
   "cell_type": "code",
   "execution_count": 2,
   "id": "48de70cf-ec6a-4107-bb4f-9a4bdc4f3e47",
   "metadata": {},
   "outputs": [
    {
     "name": "stdout",
     "output_type": "stream",
     "text": [
      "[[2 3 5 3]\n",
      " [4 5 9 5]\n",
      " [7 9 8 1]]\n",
      "<class 'numpy.ndarray'>\n"
     ]
    }
   ],
   "source": [
    "ls_a=[[2,3,5,3],[4,5,9,5],[7,9,8,1]]\n",
    "a=np.array(ls_a)\n",
    "print(a)\n",
    "print(type(a))"
   ]
  },
  {
   "cell_type": "markdown",
   "id": "fc07a095-e6d9-46de-a269-0c5f8113e71c",
   "metadata": {
    "jp-MarkdownHeadingCollapsed": true
   },
   "source": [
    "### Common Attributes of class 'numpy.ndarray':"
   ]
  },
  {
   "cell_type": "code",
   "execution_count": 3,
   "id": "2d6b3521-69ed-4c37-ba65-fd65cf891833",
   "metadata": {},
   "outputs": [
    {
     "name": "stdout",
     "output_type": "stream",
     "text": [
      "Dimension:\t 2\n",
      "Shape:\t\t (3, 4)\n",
      "Size:\t\t 12\n",
      "DataType:\t int64\n",
      "ItemSize:\t 8\n",
      "Data:\t\t <memory at 0x00000248336F3C60>\n",
      "Flat Array:\t\t [2 3 5 3 4 5 9 5 7 9 8 1]\n",
      "\n",
      "##################################################\n",
      "\n"
     ]
    }
   ],
   "source": [
    "a=np.array([[2,3,5,3],[4,5,9,5],[7,9,8,1]])\n",
    "print(\"Dimension:\\t\",a.ndim)\n",
    "print(\"Shape:\\t\\t\",a.shape)\n",
    "print(\"Size:\\t\\t\",a.size)\n",
    "print(\"DataType:\\t\",a.dtype)\n",
    "print(\"ItemSize:\\t\",a.itemsize)\n",
    "print(\"Data:\\t\\t\",a.data)\n",
    "print(\"Flat Array:\\t\\t\",np.array(a.flat))\n",
    "print('\\n'+'#'*50+'\\n')\n"
   ]
  },
  {
   "cell_type": "markdown",
   "id": "bce5e2e4-22fb-4bc6-bd77-49d63eb033fc",
   "metadata": {
    "jp-MarkdownHeadingCollapsed": true
   },
   "source": [
    "### Array Creation"
   ]
  },
  {
   "cell_type": "code",
   "execution_count": 4,
   "id": "beef9263-a60c-4f2a-9412-0c63961a24fc",
   "metadata": {},
   "outputs": [
    {
     "name": "stdout",
     "output_type": "stream",
     "text": [
      "[[1.5 2.  3. ]\n",
      " [4.  5.  6. ]]\n"
     ]
    }
   ],
   "source": [
    "print(np.array([(1.5, 2, 3), (4, 5, 6)], dtype='float64'))"
   ]
  },
  {
   "cell_type": "code",
   "execution_count": 5,
   "id": "6a8f4f1a-de98-4aab-a64b-4dafc6f113de",
   "metadata": {
    "scrolled": true
   },
   "outputs": [
    {
     "name": "stdout",
     "output_type": "stream",
     "text": [
      "[[0. 0. 0. 0.]\n",
      " [0. 0. 0. 0.]\n",
      " [0. 0. 0. 0.]]\n",
      "\n",
      "[[1. 1. 1. 1.]\n",
      " [1. 1. 1. 1.]\n",
      " [1. 1. 1. 1.]]\n",
      "\n",
      "[[1. 0. 0.]\n",
      " [0. 1. 0.]\n",
      " [0. 0. 1.]]\n",
      "\n",
      "[[1.5 2.  3. ]\n",
      " [4.  5.  6. ]]\n",
      "\n",
      "[[1.5 2.  3. ]\n",
      " [4.  5.  6. ]]\n"
     ]
    }
   ],
   "source": [
    "print(\n",
    "    np.zeros((3, 4)),\n",
    "    np.ones((3, 4)),\n",
    "    np.identity(3),\n",
    "    np.empty((2, 3)),\n",
    "    np.empty_like([(1.5, 2, 3), (4, 5, 6)]),#np.ones_like and np.zeros_like also exists\n",
    "sep='\\n\\n')"
   ]
  },
  {
   "cell_type": "code",
   "execution_count": 6,
   "id": "9c22411e-609b-4204-80a2-abfe34466928",
   "metadata": {},
   "outputs": [
    {
     "name": "stdout",
     "output_type": "stream",
     "text": [
      "[10 15 20 25]\n",
      "\n",
      "[[0 1 2 3 4]\n",
      " [5 6 7 8 9]]\n",
      "\n",
      "[0.   0.25 0.5  0.75 1.   1.25 1.5  1.75 2.  ]\n",
      "\n",
      "[1 1 1 1 1 1 1 1 1 1 1 1 1 1 1 1 1 2 2 2 2 2 2 2 2 2 3 3 3 3 3 3 3 4 4 4 4\n",
      " 4 5 5 5 5 5 6 6 6 7 7 7 8]\n"
     ]
    }
   ],
   "source": [
    "print(\n",
    "    np.arange(10, 30, 5),\n",
    "    np.arange(10).reshape(2,5),\n",
    "    np.linspace(0, 2, 9, dtype=float),\n",
    "    np.logspace(0,3,50,base=2, dtype=int),\n",
    "sep='\\n\\n')"
   ]
  },
  {
   "cell_type": "code",
   "execution_count": 7,
   "id": "e04ad3ee-5db1-4a37-853c-8a4eb3dd7d6e",
   "metadata": {},
   "outputs": [
    {
     "name": "stdout",
     "output_type": "stream",
     "text": [
      "[[0. 1. 2.]\n",
      " [1. 2. 3.]\n",
      " [2. 3. 4.]]\n"
     ]
    }
   ],
   "source": [
    "print(np.fromfunction(lambda i, j: i + j, (3, 3), dtype='float32'))"
   ]
  },
  {
   "cell_type": "markdown",
   "id": "ec79b861-cef3-4603-b314-da8d69088ae6",
   "metadata": {
    "jp-MarkdownHeadingCollapsed": true
   },
   "source": [
    "#### ~Functions~ Indexing Objects:\n",
    "- np.mgrid[]\n",
    "- np.ogrid[]\n",
    "- np.r_[]\n",
    "\n",
    "np.r_ is a powerful and flexible tool for combining arrays and creating sequences in a concise way. It can be particularly useful for quick prototyping or when writing one-liners to generate or concatenate arrays."
   ]
  },
  {
   "cell_type": "code",
   "execution_count": 8,
   "id": "fc091f6e-ffe5-451b-a684-33df5d0ade5a",
   "metadata": {},
   "outputs": [
    {
     "name": "stdout",
     "output_type": "stream",
     "text": [
      "[[[0. 0. 0. 0.]\n",
      "  [6. 6. 6. 6.]]\n",
      "\n",
      " [[0. 1. 2. 3.]\n",
      "  [0. 1. 2. 3.]]]\n",
      "\n",
      "\n",
      "(array([[0.],\n",
      "       [6.]]), array([[0., 1., 2., 3.]]))\n",
      "\n",
      "\n"
     ]
    }
   ],
   "source": [
    "print(\n",
    "    np.mgrid[0:6:2j, 0:4:1],\n",
    "    np.ogrid[0:6:2j, 0:4:1],\n",
    "sep='\\n\\n\\n',end='\\n\\n\\n')"
   ]
  },
  {
   "cell_type": "code",
   "execution_count": 9,
   "id": "1ab32e23-8bc6-4a07-a036-c0366fa4fccf",
   "metadata": {},
   "outputs": [
    {
     "data": {
      "text/plain": [
       "array([[1, 2],\n",
       "       [3, 4],\n",
       "       [5, 6],\n",
       "       [7, 8]])"
      ]
     },
     "execution_count": 9,
     "metadata": {},
     "output_type": "execute_result"
    }
   ],
   "source": [
    "np.r_[np.array([[1,2],[3,4]]),np.array([[5,6],[7,8]])]#Equivalent to np.concatenate"
   ]
  },
  {
   "cell_type": "code",
   "execution_count": 10,
   "id": "d00359df-7bae-4be3-b918-92703889d4cf",
   "metadata": {},
   "outputs": [
    {
     "name": "stdout",
     "output_type": "stream",
     "text": [
      "[0 1 2 3 4 5 6 7 8 9]\n"
     ]
    }
   ],
   "source": [
    "print(np.r_[0:10:1]) # Equivalent to np.arange(0, 10, 1)"
   ]
  },
  {
   "cell_type": "code",
   "execution_count": 11,
   "id": "30bd77e1-79db-48af-8da0-68afb65d9e82",
   "metadata": {},
   "outputs": [
    {
     "name": "stdout",
     "output_type": "stream",
     "text": [
      "[ 0.   2.5  5.   7.5 10. ]\n"
     ]
    }
   ],
   "source": [
    "print(np.r_[0:10:5j])# Equivalent to np.linspace(0, 10, 5)"
   ]
  },
  {
   "cell_type": "markdown",
   "id": "871b852b-a291-44d6-859f-80781a311d81",
   "metadata": {
    "jp-MarkdownHeadingCollapsed": true
   },
   "source": [
    "### Array Printing Options\n",
    "```python\n",
    "np.set_printoptions(precision=None, suppress=None, threshold=None, linewidth=None, formatter=None)\n",
    "np.set_printoptions(threshold=sys.maxsize)#Prints whole array instead of '...' out the large arrays\n",
    "print(np.get_printoptions())\n",
    "```\n"
   ]
  },
  {
   "cell_type": "code",
   "execution_count": 12,
   "id": "4063d26b-98b3-463f-9ec5-b6d38eebdade",
   "metadata": {},
   "outputs": [],
   "source": [
    "#For printing simply use as mentioned 'print(np.ndarray)'"
   ]
  },
  {
   "cell_type": "markdown",
   "id": "2ed5cfab-d4f4-4f9d-970f-8f8f0d8b16e1",
   "metadata": {
    "jp-MarkdownHeadingCollapsed": true
   },
   "source": [
    "### Array Operations"
   ]
  },
  {
   "cell_type": "code",
   "execution_count": 13,
   "id": "1ea9f454-29c6-4bda-9ec2-ef4328331734",
   "metadata": {},
   "outputs": [
    {
     "name": "stdout",
     "output_type": "stream",
     "text": [
      "[[5 5]\n",
      " [0 5]]\n",
      "\n",
      "[[-1 -6]\n",
      " [-3 -3]]\n",
      "\n",
      "[[  9 344]\n",
      " [ 27  65]]\n",
      "\n",
      "[[ 0.90929743  0.6569866 ]\n",
      " [ 0.         -0.7568025 ]]\n",
      "\n",
      "[[0.5        0.14285714]\n",
      " [0.         0.25      ]]\n",
      "\n",
      "[[ 5 11]\n",
      " [ 3  4]]\n",
      "\n",
      "[[ 5 11]\n",
      " [ 3  4]]\n"
     ]
    }
   ],
   "source": [
    "a = np.array([[1, 1],\n",
    "              [0, 1]])\n",
    "b = np.array([[2, 7],\n",
    "              [3, 4]])\n",
    "\n",
    "print(a*5,end='\\n\\n')#operation between a vector and a scalar is called broadcasting\n",
    "print(\n",
    "    a-b,\n",
    "    a+b**3,\n",
    "    a*np.sin(b),\n",
    "    a/b,\n",
    "    a@b,\n",
    "    a.dot(b),\n",
    "    # More operators Available\n",
    "sep='\\n\\n')"
   ]
  },
  {
   "cell_type": "code",
   "execution_count": 14,
   "id": "ec78839f-439a-4e29-bda7-ea983ef7538f",
   "metadata": {},
   "outputs": [
    {
     "name": "stdout",
     "output_type": "stream",
     "text": [
      "Before:\n",
      "a=\n",
      "[[1 1]\n",
      " [0 1]]\n",
      "b=\n",
      "[[2 7]\n",
      " [3 4]]\n",
      "\n",
      "After:\n",
      "a=\n",
      "[[2 7]\n",
      " [0 4]]\n",
      "b=\n",
      "[[2 7]\n",
      " [3 4]]\n"
     ]
    }
   ],
   "source": [
    "print(f\"Before:\\na=\\n{a}\\nb=\\n{b}\")\n",
    "a *= b\n",
    "# More operators Available\n",
    "print(f\"\\nAfter:\\na=\\n{a}\\nb=\\n{b}\")"
   ]
  },
  {
   "cell_type": "markdown",
   "id": "9ad714b7-32e1-4cd4-a03c-781b68f10b17",
   "metadata": {
    "jp-MarkdownHeadingCollapsed": true
   },
   "source": [
    "### Universal Functions (ufunc)"
   ]
  },
  {
   "cell_type": "code",
   "execution_count": 15,
   "id": "a232fa29-95d8-40d7-9e4f-5f5cb8017d40",
   "metadata": {},
   "outputs": [
    {
     "name": "stdout",
     "output_type": "stream",
     "text": [
      "[0 1 2]\n",
      "[1.         2.71828183 7.3890561 ]\n",
      "[0.         1.         1.41421356]\n"
     ]
    }
   ],
   "source": [
    "a=np.arange(3)\n",
    "print(a)\n",
    "print(np.exp(a))\n",
    "print(np.sqrt(a))"
   ]
  },
  {
   "cell_type": "markdown",
   "id": "513572b7-05cc-41a5-9471-9570df4c3518",
   "metadata": {},
   "source": [
    "#### Ufunc Table"
   ]
  },
  {
   "cell_type": "markdown",
   "id": "93617415-af57-4335-9254-5cc6d01a9e6d",
   "metadata": {
    "jp-MarkdownHeadingCollapsed": true
   },
   "source": [
    "<h5>Math operations<a class=\"headerlink\" href=\"#math-operations\" title=\"Link to this heading\">#</a></h5>"
   ]
  },
  {
   "cell_type": "markdown",
   "id": "a3f20dfb-9bbd-4641-8fc7-7f5b9fb97137",
   "metadata": {
    "jp-MarkdownHeadingCollapsed": true
   },
   "source": [
    "<section id=\"math-operations\">\n",
    "<div class=\"pst-scrollable-table-container\"><table class=\"autosummary longtable table autosummary\">\n",
    "<tbody>\n",
    "<tr class=\"row-odd\"><td><p><a class=\"reference internal\" href=\"generated/numpy.add.html#numpy.add\" title=\"numpy.add\"><code class=\"xref py py-obj docutils literal notranslate\"><span class=\"pre\">add</span></code></a>(x1, x2, /[, out, where, casting, order, ...])</p></td>\n",
    "<td><p>Add arguments element-wise.</p></td>\n",
    "</tr>\n",
    "<tr class=\"row-even\"><td><p><a class=\"reference internal\" href=\"generated/numpy.subtract.html#numpy.subtract\" title=\"numpy.subtract\"><code class=\"xref py py-obj docutils literal notranslate\"><span class=\"pre\">subtract</span></code></a>(x1, x2, /[, out, where, casting, ...])</p></td>\n",
    "<td><p>Subtract arguments, element-wise.</p></td>\n",
    "</tr>\n",
    "<tr class=\"row-odd\"><td><p><a class=\"reference internal\" href=\"generated/numpy.multiply.html#numpy.multiply\" title=\"numpy.multiply\"><code class=\"xref py py-obj docutils literal notranslate\"><span class=\"pre\">multiply</span></code></a>(x1, x2, /[, out, where, casting, ...])</p></td>\n",
    "<td><p>Multiply arguments element-wise.</p></td>\n",
    "</tr>\n",
    "<tr class=\"row-even\"><td><p><a class=\"reference internal\" href=\"generated/numpy.matmul.html#numpy.matmul\" title=\"numpy.matmul\"><code class=\"xref py py-obj docutils literal notranslate\"><span class=\"pre\">matmul</span></code></a>(x1, x2, /[, out, casting, order, ...])</p></td>\n",
    "<td><p>Matrix product of two arrays.</p></td>\n",
    "</tr>\n",
    "<tr class=\"row-odd\"><td><p><a class=\"reference internal\" href=\"generated/numpy.divide.html#numpy.divide\" title=\"numpy.divide\"><code class=\"xref py py-obj docutils literal notranslate\"><span class=\"pre\">divide</span></code></a>(x1, x2, /[, out, where, casting, ...])</p></td>\n",
    "<td><p>Divide arguments element-wise.</p></td>\n",
    "</tr>\n",
    "<tr class=\"row-even\"><td><p><a class=\"reference internal\" href=\"generated/numpy.logaddexp.html#numpy.logaddexp\" title=\"numpy.logaddexp\"><code class=\"xref py py-obj docutils literal notranslate\"><span class=\"pre\">logaddexp</span></code></a>(x1, x2, /[, out, where, casting, ...])</p></td>\n",
    "<td><p>Logarithm of the sum of exponentiations of the inputs.</p></td>\n",
    "</tr>\n",
    "<tr class=\"row-odd\"><td><p><a class=\"reference internal\" href=\"generated/numpy.logaddexp2.html#numpy.logaddexp2\" title=\"numpy.logaddexp2\"><code class=\"xref py py-obj docutils literal notranslate\"><span class=\"pre\">logaddexp2</span></code></a>(x1, x2, /[, out, where, casting, ...])</p></td>\n",
    "<td><p>Logarithm of the sum of exponentiations of the inputs in base-2.</p></td>\n",
    "</tr>\n",
    "<tr class=\"row-even\"><td><p><a class=\"reference internal\" href=\"generated/numpy.true_divide.html#numpy.true_divide\" title=\"numpy.true_divide\"><code class=\"xref py py-obj docutils literal notranslate\"><span class=\"pre\">true_divide</span></code></a>(x1, x2, /[, out, where, ...])</p></td>\n",
    "<td><p>Divide arguments element-wise.</p></td>\n",
    "</tr>\n",
    "<tr class=\"row-odd\"><td><p><a class=\"reference internal\" href=\"generated/numpy.floor_divide.html#numpy.floor_divide\" title=\"numpy.floor_divide\"><code class=\"xref py py-obj docutils literal notranslate\"><span class=\"pre\">floor_divide</span></code></a>(x1, x2, /[, out, where, ...])</p></td>\n",
    "<td><p>Return the largest integer smaller or equal to the division of the inputs.</p></td>\n",
    "</tr>\n",
    "<tr class=\"row-even\"><td><p><a class=\"reference internal\" href=\"generated/numpy.negative.html#numpy.negative\" title=\"numpy.negative\"><code class=\"xref py py-obj docutils literal notranslate\"><span class=\"pre\">negative</span></code></a>(x, /[, out, where, casting, order, ...])</p></td>\n",
    "<td><p>Numerical negative, element-wise.</p></td>\n",
    "</tr>\n",
    "<tr class=\"row-odd\"><td><p><a class=\"reference internal\" href=\"generated/numpy.positive.html#numpy.positive\" title=\"numpy.positive\"><code class=\"xref py py-obj docutils literal notranslate\"><span class=\"pre\">positive</span></code></a>(x, /[, out, where, casting, order, ...])</p></td>\n",
    "<td><p>Numerical positive, element-wise.</p></td>\n",
    "</tr>\n",
    "<tr class=\"row-even\"><td><p><a class=\"reference internal\" href=\"generated/numpy.power.html#numpy.power\" title=\"numpy.power\"><code class=\"xref py py-obj docutils literal notranslate\"><span class=\"pre\">power</span></code></a>(x1, x2, /[, out, where, casting, ...])</p></td>\n",
    "<td><p>First array elements raised to powers from second array, element-wise.</p></td>\n",
    "</tr>\n",
    "<tr class=\"row-odd\"><td><p><a class=\"reference internal\" href=\"generated/numpy.float_power.html#numpy.float_power\" title=\"numpy.float_power\"><code class=\"xref py py-obj docutils literal notranslate\"><span class=\"pre\">float_power</span></code></a>(x1, x2, /[, out, where, ...])</p></td>\n",
    "<td><p>First array elements raised to powers from second array, element-wise.</p></td>\n",
    "</tr>\n",
    "<tr class=\"row-even\"><td><p><a class=\"reference internal\" href=\"generated/numpy.remainder.html#numpy.remainder\" title=\"numpy.remainder\"><code class=\"xref py py-obj docutils literal notranslate\"><span class=\"pre\">remainder</span></code></a>(x1, x2, /[, out, where, casting, ...])</p></td>\n",
    "<td><p>Returns the element-wise remainder of division.</p></td>\n",
    "</tr>\n",
    "<tr class=\"row-odd\"><td><p><a class=\"reference internal\" href=\"generated/numpy.mod.html#numpy.mod\" title=\"numpy.mod\"><code class=\"xref py py-obj docutils literal notranslate\"><span class=\"pre\">mod</span></code></a>(x1, x2, /[, out, where, casting, order, ...])</p></td>\n",
    "<td><p>Returns the element-wise remainder of division.</p></td>\n",
    "</tr>\n",
    "<tr class=\"row-even\"><td><p><a class=\"reference internal\" href=\"generated/numpy.fmod.html#numpy.fmod\" title=\"numpy.fmod\"><code class=\"xref py py-obj docutils literal notranslate\"><span class=\"pre\">fmod</span></code></a>(x1, x2, /[, out, where, casting, ...])</p></td>\n",
    "<td><p>Returns the element-wise remainder of division.</p></td>\n",
    "</tr>\n",
    "<tr class=\"row-odd\"><td><p><a class=\"reference internal\" href=\"generated/numpy.divmod.html#numpy.divmod\" title=\"numpy.divmod\"><code class=\"xref py py-obj docutils literal notranslate\"><span class=\"pre\">divmod</span></code></a>(x1, x2[, out1, out2], / [[, out, ...])</p></td>\n",
    "<td><p>Return element-wise quotient and remainder simultaneously.</p></td>\n",
    "</tr>\n",
    "<tr class=\"row-even\"><td><p><a class=\"reference internal\" href=\"generated/numpy.absolute.html#numpy.absolute\" title=\"numpy.absolute\"><code class=\"xref py py-obj docutils literal notranslate\"><span class=\"pre\">absolute</span></code></a>(x, /[, out, where, casting, order, ...])</p></td>\n",
    "<td><p>Calculate the absolute value element-wise.</p></td>\n",
    "</tr>\n",
    "<tr class=\"row-odd\"><td><p><a class=\"reference internal\" href=\"generated/numpy.fabs.html#numpy.fabs\" title=\"numpy.fabs\"><code class=\"xref py py-obj docutils literal notranslate\"><span class=\"pre\">fabs</span></code></a>(x, /[, out, where, casting, order, ...])</p></td>\n",
    "<td><p>Compute the absolute values element-wise.</p></td>\n",
    "</tr>\n",
    "<tr class=\"row-even\"><td><p><a class=\"reference internal\" href=\"generated/numpy.rint.html#numpy.rint\" title=\"numpy.rint\"><code class=\"xref py py-obj docutils literal notranslate\"><span class=\"pre\">rint</span></code></a>(x, /[, out, where, casting, order, ...])</p></td>\n",
    "<td><p>Round elements of the array to the nearest integer.</p></td>\n",
    "</tr>\n",
    "<tr class=\"row-odd\"><td><p><a class=\"reference internal\" href=\"generated/numpy.sign.html#numpy.sign\" title=\"numpy.sign\"><code class=\"xref py py-obj docutils literal notranslate\"><span class=\"pre\">sign</span></code></a>(x, /[, out, where, casting, order, ...])</p></td>\n",
    "<td><p>Returns an element-wise indication of the sign of a number.</p></td>\n",
    "</tr>\n",
    "<tr class=\"row-even\"><td><p><a class=\"reference internal\" href=\"generated/numpy.heaviside.html#numpy.heaviside\" title=\"numpy.heaviside\"><code class=\"xref py py-obj docutils literal notranslate\"><span class=\"pre\">heaviside</span></code></a>(x1, x2, /[, out, where, casting, ...])</p></td>\n",
    "<td><p>Compute the Heaviside step function.</p></td>\n",
    "</tr>\n",
    "<tr class=\"row-odd\"><td><p><a class=\"reference internal\" href=\"generated/numpy.conj.html#numpy.conj\" title=\"numpy.conj\"><code class=\"xref py py-obj docutils literal notranslate\"><span class=\"pre\">conj</span></code></a>(x, /[, out, where, casting, order, ...])</p></td>\n",
    "<td><p>Return the complex conjugate, element-wise.</p></td>\n",
    "</tr>\n",
    "<tr class=\"row-even\"><td><p><a class=\"reference internal\" href=\"generated/numpy.conjugate.html#numpy.conjugate\" title=\"numpy.conjugate\"><code class=\"xref py py-obj docutils literal notranslate\"><span class=\"pre\">conjugate</span></code></a>(x, /[, out, where, casting, ...])</p></td>\n",
    "<td><p>Return the complex conjugate, element-wise.</p></td>\n",
    "</tr>\n",
    "<tr class=\"row-odd\"><td><p><a class=\"reference internal\" href=\"generated/numpy.exp.html#numpy.exp\" title=\"numpy.exp\"><code class=\"xref py py-obj docutils literal notranslate\"><span class=\"pre\">exp</span></code></a>(x, /[, out, where, casting, order, ...])</p></td>\n",
    "<td><p>Calculate the exponential of all elements in the input array.</p></td>\n",
    "</tr>\n",
    "<tr class=\"row-even\"><td><p><a class=\"reference internal\" href=\"generated/numpy.exp2.html#numpy.exp2\" title=\"numpy.exp2\"><code class=\"xref py py-obj docutils literal notranslate\"><span class=\"pre\">exp2</span></code></a>(x, /[, out, where, casting, order, ...])</p></td>\n",
    "<td><p>Calculate <em class=\"xref py py-obj\">2**p</em> for all <em class=\"xref py py-obj\">p</em> in the input array.</p></td>\n",
    "</tr>\n",
    "<tr class=\"row-odd\"><td><p><a class=\"reference internal\" href=\"generated/numpy.log.html#numpy.log\" title=\"numpy.log\"><code class=\"xref py py-obj docutils literal notranslate\"><span class=\"pre\">log</span></code></a>(x, /[, out, where, casting, order, ...])</p></td>\n",
    "<td><p>Natural logarithm, element-wise.</p></td>\n",
    "</tr>\n",
    "<tr class=\"row-even\"><td><p><a class=\"reference internal\" href=\"generated/numpy.log2.html#numpy.log2\" title=\"numpy.log2\"><code class=\"xref py py-obj docutils literal notranslate\"><span class=\"pre\">log2</span></code></a>(x, /[, out, where, casting, order, ...])</p></td>\n",
    "<td><p>Base-2 logarithm of <em class=\"xref py py-obj\">x</em>.</p></td>\n",
    "</tr>\n",
    "<tr class=\"row-odd\"><td><p><a class=\"reference internal\" href=\"generated/numpy.log10.html#numpy.log10\" title=\"numpy.log10\"><code class=\"xref py py-obj docutils literal notranslate\"><span class=\"pre\">log10</span></code></a>(x, /[, out, where, casting, order, ...])</p></td>\n",
    "<td><p>Return the base 10 logarithm of the input array, element-wise.</p></td>\n",
    "</tr>\n",
    "<tr class=\"row-even\"><td><p><a class=\"reference internal\" href=\"generated/numpy.expm1.html#numpy.expm1\" title=\"numpy.expm1\"><code class=\"xref py py-obj docutils literal notranslate\"><span class=\"pre\">expm1</span></code></a>(x, /[, out, where, casting, order, ...])</p></td>\n",
    "<td><p>Calculate <code class=\"docutils literal notranslate\"><span class=\"pre\">exp(x)</span> <span class=\"pre\">-</span> <span class=\"pre\">1</span></code> for all elements in the array.</p></td>\n",
    "</tr>\n",
    "<tr class=\"row-odd\"><td><p><a class=\"reference internal\" href=\"generated/numpy.log1p.html#numpy.log1p\" title=\"numpy.log1p\"><code class=\"xref py py-obj docutils literal notranslate\"><span class=\"pre\">log1p</span></code></a>(x, /[, out, where, casting, order, ...])</p></td>\n",
    "<td><p>Return the natural logarithm of one plus the input array, element-wise.</p></td>\n",
    "</tr>\n",
    "<tr class=\"row-even\"><td><p><a class=\"reference internal\" href=\"generated/numpy.sqrt.html#numpy.sqrt\" title=\"numpy.sqrt\"><code class=\"xref py py-obj docutils literal notranslate\"><span class=\"pre\">sqrt</span></code></a>(x, /[, out, where, casting, order, ...])</p></td>\n",
    "<td><p>Return the non-negative square-root of an array, element-wise.</p></td>\n",
    "</tr>\n",
    "<tr class=\"row-odd\"><td><p><a class=\"reference internal\" href=\"generated/numpy.square.html#numpy.square\" title=\"numpy.square\"><code class=\"xref py py-obj docutils literal notranslate\"><span class=\"pre\">square</span></code></a>(x, /[, out, where, casting, order, ...])</p></td>\n",
    "<td><p>Return the element-wise square of the input.</p></td>\n",
    "</tr>\n",
    "<tr class=\"row-even\"><td><p><a class=\"reference internal\" href=\"generated/numpy.cbrt.html#numpy.cbrt\" title=\"numpy.cbrt\"><code class=\"xref py py-obj docutils literal notranslate\"><span class=\"pre\">cbrt</span></code></a>(x, /[, out, where, casting, order, ...])</p></td>\n",
    "<td><p>Return the cube-root of an array, element-wise.</p></td>\n",
    "</tr>\n",
    "<tr class=\"row-odd\"><td><p><a class=\"reference internal\" href=\"generated/numpy.reciprocal.html#numpy.reciprocal\" title=\"numpy.reciprocal\"><code class=\"xref py py-obj docutils literal notranslate\"><span class=\"pre\">reciprocal</span></code></a>(x, /[, out, where, casting, ...])</p></td>\n",
    "<td><p>Return the reciprocal of the argument, element-wise.</p></td>\n",
    "</tr>\n",
    "<tr class=\"row-even\"><td><p><a class=\"reference internal\" href=\"generated/numpy.gcd.html#numpy.gcd\" title=\"numpy.gcd\"><code class=\"xref py py-obj docutils literal notranslate\"><span class=\"pre\">gcd</span></code></a>(x1, x2, /[, out, where, casting, order, ...])</p></td>\n",
    "<td><p>Returns the greatest common divisor of <code class=\"docutils literal notranslate\"><span class=\"pre\">|x1|</span></code> and <code class=\"docutils literal notranslate\"><span class=\"pre\">|x2|</span></code></p></td>\n",
    "</tr>\n",
    "<tr class=\"row-odd\"><td><p><a class=\"reference internal\" href=\"generated/numpy.lcm.html#numpy.lcm\" title=\"numpy.lcm\"><code class=\"xref py py-obj docutils literal notranslate\"><span class=\"pre\">lcm</span></code></a>(x1, x2, /[, out, where, casting, order, ...])</p></td>\n",
    "<td><p>Returns the lowest common multiple of <code class=\"docutils literal notranslate\"><span class=\"pre\">|x1|</span></code> and <code class=\"docutils literal notranslate\"><span class=\"pre\">|x2|</span></code></p></td>\n",
    "</tr>\n",
    "</tbody>\n",
    "</table>\n",
    "</div>\n",
    "<div class=\"admonition tip\">\n",
    "<p class=\"admonition-title\">Tip</p>\n",
    "<p>The optional output arguments can be used to help you save memory\n",
    "for large calculations. If your arrays are large, complicated\n",
    "expressions can take longer than absolutely necessary due to the\n",
    "creation and (later) destruction of temporary calculation\n",
    "spaces. For example, the expression <code class=\"docutils literal notranslate\"><span class=\"pre\">G</span> <span class=\"pre\">=</span> <span class=\"pre\">A</span> <span class=\"pre\">*</span> <span class=\"pre\">B</span> <span class=\"pre\">+</span> <span class=\"pre\">C</span></code> is equivalent to\n",
    "<code class=\"docutils literal notranslate\"><span class=\"pre\">T1</span> <span class=\"pre\">=</span> <span class=\"pre\">A</span> <span class=\"pre\">*</span> <span class=\"pre\">B;</span> <span class=\"pre\">G</span> <span class=\"pre\">=</span> <span class=\"pre\">T1</span> <span class=\"pre\">+</span> <span class=\"pre\">C;</span> <span class=\"pre\">del</span> <span class=\"pre\">T1</span></code>. It will be more quickly executed\n",
    "as <code class=\"docutils literal notranslate\"><span class=\"pre\">G</span> <span class=\"pre\">=</span> <span class=\"pre\">A</span> <span class=\"pre\">*</span> <span class=\"pre\">B;</span> <span class=\"pre\">add(G,</span> <span class=\"pre\">C,</span> <span class=\"pre\">G)</span></code> which is the same as\n",
    "<code class=\"docutils literal notranslate\"><span class=\"pre\">G</span> <span class=\"pre\">=</span> <span class=\"pre\">A</span> <span class=\"pre\">*</span> <span class=\"pre\">B;</span> <span class=\"pre\">G</span> <span class=\"pre\">+=</span> <span class=\"pre\">C</span></code>.</p>\n",
    "</div>\n",
    "</section>"
   ]
  },
  {
   "cell_type": "markdown",
   "id": "5d242d5e-01e0-4f61-bbd3-2c73c007c495",
   "metadata": {
    "jp-MarkdownHeadingCollapsed": true
   },
   "source": [
    "<h5>Trigonometric functions<a class=\"headerlink\" href=\"#trigonometric-functions\" title=\"Link to this heading\">#</a></h5>"
   ]
  },
  {
   "cell_type": "markdown",
   "id": "37b6a66b-74d8-4cd8-8ac4-6024022a975f",
   "metadata": {},
   "source": [
    "<section id=\"trigonometric-functions\">\n",
    "<p>All trigonometric functions use radians when an angle is called for.\n",
    "The ratio of degrees to radians is <span class=\"math notranslate nohighlight\">\\(180^{\\circ}/\\pi.\\)</span></p>\n",
    "<div class=\"pst-scrollable-table-container\"><table class=\"autosummary longtable table autosummary\">\n",
    "<tbody>\n",
    "<tr class=\"row-odd\"><td><p><a class=\"reference internal\" href=\"generated/numpy.sin.html#numpy.sin\" title=\"numpy.sin\"><code class=\"xref py py-obj docutils literal notranslate\"><span class=\"pre\">sin</span></code></a>(x, /[, out, where, casting, order, ...])</p></td>\n",
    "<td><p>Trigonometric sine, element-wise.</p></td>\n",
    "</tr>\n",
    "<tr class=\"row-even\"><td><p><a class=\"reference internal\" href=\"generated/numpy.cos.html#numpy.cos\" title=\"numpy.cos\"><code class=\"xref py py-obj docutils literal notranslate\"><span class=\"pre\">cos</span></code></a>(x, /[, out, where, casting, order, ...])</p></td>\n",
    "<td><p>Cosine element-wise.</p></td>\n",
    "</tr>\n",
    "<tr class=\"row-odd\"><td><p><a class=\"reference internal\" href=\"generated/numpy.tan.html#numpy.tan\" title=\"numpy.tan\"><code class=\"xref py py-obj docutils literal notranslate\"><span class=\"pre\">tan</span></code></a>(x, /[, out, where, casting, order, ...])</p></td>\n",
    "<td><p>Compute tangent element-wise.</p></td>\n",
    "</tr>\n",
    "<tr class=\"row-even\"><td><p><a class=\"reference internal\" href=\"generated/numpy.arcsin.html#numpy.arcsin\" title=\"numpy.arcsin\"><code class=\"xref py py-obj docutils literal notranslate\"><span class=\"pre\">arcsin</span></code></a>(x, /[, out, where, casting, order, ...])</p></td>\n",
    "<td><p>Inverse sine, element-wise.</p></td>\n",
    "</tr>\n",
    "<tr class=\"row-odd\"><td><p><a class=\"reference internal\" href=\"generated/numpy.arccos.html#numpy.arccos\" title=\"numpy.arccos\"><code class=\"xref py py-obj docutils literal notranslate\"><span class=\"pre\">arccos</span></code></a>(x, /[, out, where, casting, order, ...])</p></td>\n",
    "<td><p>Trigonometric inverse cosine, element-wise.</p></td>\n",
    "</tr>\n",
    "<tr class=\"row-even\"><td><p><a class=\"reference internal\" href=\"generated/numpy.arctan.html#numpy.arctan\" title=\"numpy.arctan\"><code class=\"xref py py-obj docutils literal notranslate\"><span class=\"pre\">arctan</span></code></a>(x, /[, out, where, casting, order, ...])</p></td>\n",
    "<td><p>Trigonometric inverse tangent, element-wise.</p></td>\n",
    "</tr>\n",
    "<tr class=\"row-odd\"><td><p><a class=\"reference internal\" href=\"generated/numpy.arctan2.html#numpy.arctan2\" title=\"numpy.arctan2\"><code class=\"xref py py-obj docutils literal notranslate\"><span class=\"pre\">arctan2</span></code></a>(x1, x2, /[, out, where, casting, ...])</p></td>\n",
    "<td><p>Element-wise arc tangent of <code class=\"docutils literal notranslate\"><span class=\"pre\">x1/x2</span></code> choosing the quadrant correctly.</p></td>\n",
    "</tr>\n",
    "<tr class=\"row-even\"><td><p><a class=\"reference internal\" href=\"generated/numpy.hypot.html#numpy.hypot\" title=\"numpy.hypot\"><code class=\"xref py py-obj docutils literal notranslate\"><span class=\"pre\">hypot</span></code></a>(x1, x2, /[, out, where, casting, ...])</p></td>\n",
    "<td><p>Given the &quot;legs&quot; of a right triangle, return its hypotenuse.</p></td>\n",
    "</tr>\n",
    "<tr class=\"row-odd\"><td><p><a class=\"reference internal\" href=\"generated/numpy.sinh.html#numpy.sinh\" title=\"numpy.sinh\"><code class=\"xref py py-obj docutils literal notranslate\"><span class=\"pre\">sinh</span></code></a>(x, /[, out, where, casting, order, ...])</p></td>\n",
    "<td><p>Hyperbolic sine, element-wise.</p></td>\n",
    "</tr>\n",
    "<tr class=\"row-even\"><td><p><a class=\"reference internal\" href=\"generated/numpy.cosh.html#numpy.cosh\" title=\"numpy.cosh\"><code class=\"xref py py-obj docutils literal notranslate\"><span class=\"pre\">cosh</span></code></a>(x, /[, out, where, casting, order, ...])</p></td>\n",
    "<td><p>Hyperbolic cosine, element-wise.</p></td>\n",
    "</tr>\n",
    "<tr class=\"row-odd\"><td><p><a class=\"reference internal\" href=\"generated/numpy.tanh.html#numpy.tanh\" title=\"numpy.tanh\"><code class=\"xref py py-obj docutils literal notranslate\"><span class=\"pre\">tanh</span></code></a>(x, /[, out, where, casting, order, ...])</p></td>\n",
    "<td><p>Compute hyperbolic tangent element-wise.</p></td>\n",
    "</tr>\n",
    "<tr class=\"row-even\"><td><p><a class=\"reference internal\" href=\"generated/numpy.arcsinh.html#numpy.arcsinh\" title=\"numpy.arcsinh\"><code class=\"xref py py-obj docutils literal notranslate\"><span class=\"pre\">arcsinh</span></code></a>(x, /[, out, where, casting, order, ...])</p></td>\n",
    "<td><p>Inverse hyperbolic sine element-wise.</p></td>\n",
    "</tr>\n",
    "<tr class=\"row-odd\"><td><p><a class=\"reference internal\" href=\"generated/numpy.arccosh.html#numpy.arccosh\" title=\"numpy.arccosh\"><code class=\"xref py py-obj docutils literal notranslate\"><span class=\"pre\">arccosh</span></code></a>(x, /[, out, where, casting, order, ...])</p></td>\n",
    "<td><p>Inverse hyperbolic cosine, element-wise.</p></td>\n",
    "</tr>\n",
    "<tr class=\"row-even\"><td><p><a class=\"reference internal\" href=\"generated/numpy.arctanh.html#numpy.arctanh\" title=\"numpy.arctanh\"><code class=\"xref py py-obj docutils literal notranslate\"><span class=\"pre\">arctanh</span></code></a>(x, /[, out, where, casting, order, ...])</p></td>\n",
    "<td><p>Inverse hyperbolic tangent element-wise.</p></td>\n",
    "</tr>\n",
    "<tr class=\"row-odd\"><td><p><a class=\"reference internal\" href=\"generated/numpy.degrees.html#numpy.degrees\" title=\"numpy.degrees\"><code class=\"xref py py-obj docutils literal notranslate\"><span class=\"pre\">degrees</span></code></a>(x, /[, out, where, casting, order, ...])</p></td>\n",
    "<td><p>Convert angles from radians to degrees.</p></td>\n",
    "</tr>\n",
    "<tr class=\"row-even\"><td><p><a class=\"reference internal\" href=\"generated/numpy.radians.html#numpy.radians\" title=\"numpy.radians\"><code class=\"xref py py-obj docutils literal notranslate\"><span class=\"pre\">radians</span></code></a>(x, /[, out, where, casting, order, ...])</p></td>\n",
    "<td><p>Convert angles from degrees to radians.</p></td>\n",
    "</tr>\n",
    "<tr class=\"row-odd\"><td><p><a class=\"reference internal\" href=\"generated/numpy.deg2rad.html#numpy.deg2rad\" title=\"numpy.deg2rad\"><code class=\"xref py py-obj docutils literal notranslate\"><span class=\"pre\">deg2rad</span></code></a>(x, /[, out, where, casting, order, ...])</p></td>\n",
    "<td><p>Convert angles from degrees to radians.</p></td>\n",
    "</tr>\n",
    "<tr class=\"row-even\"><td><p><a class=\"reference internal\" href=\"generated/numpy.rad2deg.html#numpy.rad2deg\" title=\"numpy.rad2deg\"><code class=\"xref py py-obj docutils literal notranslate\"><span class=\"pre\">rad2deg</span></code></a>(x, /[, out, where, casting, order, ...])</p></td>\n",
    "<td><p>Convert angles from radians to degrees.</p></td>\n",
    "</tr>\n",
    "</tbody>\n",
    "</table>\n",
    "</div>\n",
    "</section>"
   ]
  },
  {
   "cell_type": "markdown",
   "id": "3e07163c-06fe-4de4-a601-0b93eed2f37d",
   "metadata": {
    "jp-MarkdownHeadingCollapsed": true
   },
   "source": [
    "<h5>Bit-twiddling functions<a class=\"headerlink\" href=\"#bit-twiddling-functions\" title=\"Link to this heading\">#</a></h5>"
   ]
  },
  {
   "cell_type": "markdown",
   "id": "507a455e-bd4b-43a6-9d2a-aede6fe55b8e",
   "metadata": {},
   "source": [
    "<section id=\"bit-twiddling-functions\">\n",
    "<p>These function all require integer arguments and they manipulate the\n",
    "bit-pattern of those arguments.</p>\n",
    "<div class=\"pst-scrollable-table-container\"><table class=\"autosummary longtable table autosummary\">\n",
    "<tbody>\n",
    "<tr class=\"row-odd\"><td><p><a class=\"reference internal\" href=\"generated/numpy.bitwise_and.html#numpy.bitwise_and\" title=\"numpy.bitwise_and\"><code class=\"xref py py-obj docutils literal notranslate\"><span class=\"pre\">bitwise_and</span></code></a>(x1, x2, /[, out, where, ...])</p></td>\n",
    "<td><p>Compute the bit-wise AND of two arrays element-wise.</p></td>\n",
    "</tr>\n",
    "<tr class=\"row-even\"><td><p><a class=\"reference internal\" href=\"generated/numpy.bitwise_or.html#numpy.bitwise_or\" title=\"numpy.bitwise_or\"><code class=\"xref py py-obj docutils literal notranslate\"><span class=\"pre\">bitwise_or</span></code></a>(x1, x2, /[, out, where, casting, ...])</p></td>\n",
    "<td><p>Compute the bit-wise OR of two arrays element-wise.</p></td>\n",
    "</tr>\n",
    "<tr class=\"row-odd\"><td><p><a class=\"reference internal\" href=\"generated/numpy.bitwise_xor.html#numpy.bitwise_xor\" title=\"numpy.bitwise_xor\"><code class=\"xref py py-obj docutils literal notranslate\"><span class=\"pre\">bitwise_xor</span></code></a>(x1, x2, /[, out, where, ...])</p></td>\n",
    "<td><p>Compute the bit-wise XOR of two arrays element-wise.</p></td>\n",
    "</tr>\n",
    "<tr class=\"row-even\"><td><p><a class=\"reference internal\" href=\"generated/numpy.invert.html#numpy.invert\" title=\"numpy.invert\"><code class=\"xref py py-obj docutils literal notranslate\"><span class=\"pre\">invert</span></code></a>(x, /[, out, where, casting, order, ...])</p></td>\n",
    "<td><p>Compute bit-wise inversion, or bit-wise NOT, element-wise.</p></td>\n",
    "</tr>\n",
    "<tr class=\"row-odd\"><td><p><a class=\"reference internal\" href=\"generated/numpy.left_shift.html#numpy.left_shift\" title=\"numpy.left_shift\"><code class=\"xref py py-obj docutils literal notranslate\"><span class=\"pre\">left_shift</span></code></a>(x1, x2, /[, out, where, casting, ...])</p></td>\n",
    "<td><p>Shift the bits of an integer to the left.</p></td>\n",
    "</tr>\n",
    "<tr class=\"row-even\"><td><p><a class=\"reference internal\" href=\"generated/numpy.right_shift.html#numpy.right_shift\" title=\"numpy.right_shift\"><code class=\"xref py py-obj docutils literal notranslate\"><span class=\"pre\">right_shift</span></code></a>(x1, x2, /[, out, where, ...])</p></td>\n",
    "<td><p>Shift the bits of an integer to the right.</p></td>\n",
    "</tr>\n",
    "</tbody>\n",
    "</table>\n",
    "</div>\n",
    "</section>"
   ]
  },
  {
   "cell_type": "markdown",
   "id": "268da1d0-15c6-40c0-9822-61a45685994e",
   "metadata": {
    "jp-MarkdownHeadingCollapsed": true
   },
   "source": [
    "<h5>Comparison functions<a class=\"headerlink\" href=\"#comparison-functions\" title=\"Link to this heading\">#</a></h5>"
   ]
  },
  {
   "cell_type": "markdown",
   "id": "5a1c58a0-52a5-4867-acc7-2d9bc91d61bb",
   "metadata": {},
   "source": [
    "<section id=\"comparison-functions\">\n",
    "<div class=\"pst-scrollable-table-container\"><table class=\"autosummary longtable table autosummary\">\n",
    "<tbody>\n",
    "<tr class=\"row-odd\"><td><p><a class=\"reference internal\" href=\"generated/numpy.greater.html#numpy.greater\" title=\"numpy.greater\"><code class=\"xref py py-obj docutils literal notranslate\"><span class=\"pre\">greater</span></code></a>(x1, x2, /[, out, where, casting, ...])</p></td>\n",
    "<td><p>Return the truth value of (x1 &gt; x2) element-wise.</p></td>\n",
    "</tr>\n",
    "<tr class=\"row-even\"><td><p><a class=\"reference internal\" href=\"generated/numpy.greater_equal.html#numpy.greater_equal\" title=\"numpy.greater_equal\"><code class=\"xref py py-obj docutils literal notranslate\"><span class=\"pre\">greater_equal</span></code></a>(x1, x2, /[, out, where, ...])</p></td>\n",
    "<td><p>Return the truth value of (x1 &gt;= x2) element-wise.</p></td>\n",
    "</tr>\n",
    "<tr class=\"row-odd\"><td><p><a class=\"reference internal\" href=\"generated/numpy.less.html#numpy.less\" title=\"numpy.less\"><code class=\"xref py py-obj docutils literal notranslate\"><span class=\"pre\">less</span></code></a>(x1, x2, /[, out, where, casting, ...])</p></td>\n",
    "<td><p>Return the truth value of (x1 &lt; x2) element-wise.</p></td>\n",
    "</tr>\n",
    "<tr class=\"row-even\"><td><p><a class=\"reference internal\" href=\"generated/numpy.less_equal.html#numpy.less_equal\" title=\"numpy.less_equal\"><code class=\"xref py py-obj docutils literal notranslate\"><span class=\"pre\">less_equal</span></code></a>(x1, x2, /[, out, where, casting, ...])</p></td>\n",
    "<td><p>Return the truth value of (x1 &lt;= x2) element-wise.</p></td>\n",
    "</tr>\n",
    "<tr class=\"row-odd\"><td><p><a class=\"reference internal\" href=\"generated/numpy.not_equal.html#numpy.not_equal\" title=\"numpy.not_equal\"><code class=\"xref py py-obj docutils literal notranslate\"><span class=\"pre\">not_equal</span></code></a>(x1, x2, /[, out, where, casting, ...])</p></td>\n",
    "<td><p>Return (x1 != x2) element-wise.</p></td>\n",
    "</tr>\n",
    "<tr class=\"row-even\"><td><p><a class=\"reference internal\" href=\"generated/numpy.equal.html#numpy.equal\" title=\"numpy.equal\"><code class=\"xref py py-obj docutils literal notranslate\"><span class=\"pre\">equal</span></code></a>(x1, x2, /[, out, where, casting, ...])</p></td>\n",
    "<td><p>Return (x1 == x2) element-wise.</p></td>\n",
    "</tr>\n",
    "</tbody>\n",
    "</table>\n",
    "</div>\n",
    "<div class=\"admonition warning\">\n",
    "<p class=\"admonition-title\">Warning</p>\n",
    "<p>Do not use the Python keywords <code class=\"docutils literal notranslate\"><span class=\"pre\">and</span></code> and <code class=\"docutils literal notranslate\"><span class=\"pre\">or</span></code> to combine\n",
    "logical array expressions. These keywords will test the truth\n",
    "value of the entire array (not element-by-element as you might\n",
    "expect). Use the bitwise operators &amp; and | instead.</p>\n",
    "</div>\n",
    "<div class=\"pst-scrollable-table-container\"><table class=\"autosummary longtable table autosummary\">\n",
    "<tbody>\n",
    "<tr class=\"row-odd\"><td><p><a class=\"reference internal\" href=\"generated/numpy.logical_and.html#numpy.logical_and\" title=\"numpy.logical_and\"><code class=\"xref py py-obj docutils literal notranslate\"><span class=\"pre\">logical_and</span></code></a>(x1, x2, /[, out, where, ...])</p></td>\n",
    "<td><p>Compute the truth value of x1 AND x2 element-wise.</p></td>\n",
    "</tr>\n",
    "<tr class=\"row-even\"><td><p><a class=\"reference internal\" href=\"generated/numpy.logical_or.html#numpy.logical_or\" title=\"numpy.logical_or\"><code class=\"xref py py-obj docutils literal notranslate\"><span class=\"pre\">logical_or</span></code></a>(x1, x2, /[, out, where, casting, ...])</p></td>\n",
    "<td><p>Compute the truth value of x1 OR x2 element-wise.</p></td>\n",
    "</tr>\n",
    "<tr class=\"row-odd\"><td><p><a class=\"reference internal\" href=\"generated/numpy.logical_xor.html#numpy.logical_xor\" title=\"numpy.logical_xor\"><code class=\"xref py py-obj docutils literal notranslate\"><span class=\"pre\">logical_xor</span></code></a>(x1, x2, /[, out, where, ...])</p></td>\n",
    "<td><p>Compute the truth value of x1 XOR x2, element-wise.</p></td>\n",
    "</tr>\n",
    "<tr class=\"row-even\"><td><p><a class=\"reference internal\" href=\"generated/numpy.logical_not.html#numpy.logical_not\" title=\"numpy.logical_not\"><code class=\"xref py py-obj docutils literal notranslate\"><span class=\"pre\">logical_not</span></code></a>(x, /[, out, where, casting, ...])</p></td>\n",
    "<td><p>Compute the truth value of NOT x element-wise.</p></td>\n",
    "</tr>\n",
    "</tbody>\n",
    "</table>\n",
    "</div>\n",
    "<div class=\"admonition warning\">\n",
    "<p class=\"admonition-title\">Warning</p>\n",
    "<p>The bit-wise operators &amp; and | are the proper way to perform\n",
    "element-by-element array comparisons. Be sure you understand the\n",
    "operator precedence: <code class=\"docutils literal notranslate\"><span class=\"pre\">(a</span> <span class=\"pre\">&gt;</span> <span class=\"pre\">2)</span> <span class=\"pre\">&amp;</span> <span class=\"pre\">(a</span> <span class=\"pre\">&lt;</span> <span class=\"pre\">5)</span></code> is the proper syntax because\n",
    "<code class=\"docutils literal notranslate\"><span class=\"pre\">a</span> <span class=\"pre\">&gt;</span> <span class=\"pre\">2</span> <span class=\"pre\">&amp;</span> <span class=\"pre\">a</span> <span class=\"pre\">&lt;</span> <span class=\"pre\">5</span></code> will result in an error due to the fact that <code class=\"docutils literal notranslate\"><span class=\"pre\">2</span> <span class=\"pre\">&amp;</span> <span class=\"pre\">a</span></code>\n",
    "is evaluated first.</p>\n",
    "</div>\n",
    "<div class=\"pst-scrollable-table-container\"><table class=\"autosummary longtable table autosummary\">\n",
    "<tbody>\n",
    "<tr class=\"row-odd\"><td><p><a class=\"reference internal\" href=\"generated/numpy.maximum.html#numpy.maximum\" title=\"numpy.maximum\"><code class=\"xref py py-obj docutils literal notranslate\"><span class=\"pre\">maximum</span></code></a>(x1, x2, /[, out, where, casting, ...])</p></td>\n",
    "<td><p>Element-wise maximum of array elements.</p></td>\n",
    "</tr>\n",
    "</tbody>\n",
    "</table>\n",
    "</div>\n",
    "<div class=\"admonition tip\">\n",
    "<p class=\"admonition-title\">Tip</p>\n",
    "<p>The Python function <code class=\"docutils literal notranslate\"><span class=\"pre\">max()</span></code> will find the maximum over a one-dimensional\n",
    "array, but it will do so using a slower sequence interface. The reduce\n",
    "method of the maximum ufunc is much faster. Also, the <code class=\"docutils literal notranslate\"><span class=\"pre\">max()</span></code> method\n",
    "will not give answers you might expect for arrays with greater than\n",
    "one dimension. The reduce method of minimum also allows you to compute\n",
    "a total minimum over an array.</p>\n",
    "</div>\n",
    "<div class=\"pst-scrollable-table-container\"><table class=\"autosummary longtable table autosummary\">\n",
    "<tbody>\n",
    "<tr class=\"row-odd\"><td><p><a class=\"reference internal\" href=\"generated/numpy.minimum.html#numpy.minimum\" title=\"numpy.minimum\"><code class=\"xref py py-obj docutils literal notranslate\"><span class=\"pre\">minimum</span></code></a>(x1, x2, /[, out, where, casting, ...])</p></td>\n",
    "<td><p>Element-wise minimum of array elements.</p></td>\n",
    "</tr>\n",
    "</tbody>\n",
    "</table>\n",
    "</div>\n",
    "<div class=\"admonition warning\">\n",
    "<p class=\"admonition-title\">Warning</p>\n",
    "<p>the behavior of <code class=\"docutils literal notranslate\"><span class=\"pre\">maximum(a,</span> <span class=\"pre\">b)</span></code> is different than that of <code class=\"docutils literal notranslate\"><span class=\"pre\">max(a,</span> <span class=\"pre\">b)</span></code>.\n",
    "As a ufunc, <code class=\"docutils literal notranslate\"><span class=\"pre\">maximum(a,</span> <span class=\"pre\">b)</span></code> performs an element-by-element comparison\n",
    "of <em class=\"xref py py-obj\">a</em> and <em class=\"xref py py-obj\">b</em> and chooses each element of the result according to which\n",
    "element in the two arrays is larger. In contrast, <code class=\"docutils literal notranslate\"><span class=\"pre\">max(a,</span> <span class=\"pre\">b)</span></code> treats\n",
    "the objects <em class=\"xref py py-obj\">a</em> and <em class=\"xref py py-obj\">b</em> as a whole, looks at the (total) truth value of\n",
    "<code class=\"docutils literal notranslate\"><span class=\"pre\">a</span> <span class=\"pre\">&gt;</span> <span class=\"pre\">b</span></code> and uses it to return either <em class=\"xref py py-obj\">a</em> or <em class=\"xref py py-obj\">b</em> (as a whole). A similar\n",
    "difference exists between <code class=\"docutils literal notranslate\"><span class=\"pre\">minimum(a,</span> <span class=\"pre\">b)</span></code> and <code class=\"docutils literal notranslate\"><span class=\"pre\">min(a,</span> <span class=\"pre\">b)</span></code>.</p>\n",
    "</div>\n",
    "<div class=\"pst-scrollable-table-container\"><table class=\"autosummary longtable table autosummary\">\n",
    "<tbody>\n",
    "<tr class=\"row-odd\"><td><p><a class=\"reference internal\" href=\"generated/numpy.fmax.html#numpy.fmax\" title=\"numpy.fmax\"><code class=\"xref py py-obj docutils literal notranslate\"><span class=\"pre\">fmax</span></code></a>(x1, x2, /[, out, where, casting, ...])</p></td>\n",
    "<td><p>Element-wise maximum of array elements.</p></td>\n",
    "</tr>\n",
    "<tr class=\"row-even\"><td><p><a class=\"reference internal\" href=\"generated/numpy.fmin.html#numpy.fmin\" title=\"numpy.fmin\"><code class=\"xref py py-obj docutils literal notranslate\"><span class=\"pre\">fmin</span></code></a>(x1, x2, /[, out, where, casting, ...])</p></td>\n",
    "<td><p>Element-wise minimum of array elements.</p></td>\n",
    "</tr>\n",
    "</tbody>\n",
    "</table>\n",
    "</div>\n",
    "</section>"
   ]
  },
  {
   "cell_type": "markdown",
   "id": "e99b00e5-f179-4660-ab93-e25d9a801c61",
   "metadata": {
    "jp-MarkdownHeadingCollapsed": true
   },
   "source": [
    "<h5>Floating functions<a class=\"headerlink\" href=\"#floating-functions\" title=\"Link to this heading\">#</a></h5>"
   ]
  },
  {
   "cell_type": "markdown",
   "id": "f70e5866-e248-4ee9-b4d6-0f94ea09b897",
   "metadata": {},
   "source": [
    "<section id=\"floating-functions\">\n",
    "<p>Recall that all of these functions work element-by-element over an\n",
    "array, returning an array output. The description details only a\n",
    "single operation.</p>\n",
    "<div class=\"pst-scrollable-table-container\"><table class=\"autosummary longtable table autosummary\">\n",
    "<tbody>\n",
    "<tr class=\"row-odd\"><td><p><a class=\"reference internal\" href=\"generated/numpy.isfinite.html#numpy.isfinite\" title=\"numpy.isfinite\"><code class=\"xref py py-obj docutils literal notranslate\"><span class=\"pre\">isfinite</span></code></a>(x, /[, out, where, casting, order, ...])</p></td>\n",
    "<td><p>Test element-wise for finiteness (not infinity and not Not a Number).</p></td>\n",
    "</tr>\n",
    "<tr class=\"row-even\"><td><p><a class=\"reference internal\" href=\"generated/numpy.isinf.html#numpy.isinf\" title=\"numpy.isinf\"><code class=\"xref py py-obj docutils literal notranslate\"><span class=\"pre\">isinf</span></code></a>(x, /[, out, where, casting, order, ...])</p></td>\n",
    "<td><p>Test element-wise for positive or negative infinity.</p></td>\n",
    "</tr>\n",
    "<tr class=\"row-odd\"><td><p><a class=\"reference internal\" href=\"generated/numpy.isnan.html#numpy.isnan\" title=\"numpy.isnan\"><code class=\"xref py py-obj docutils literal notranslate\"><span class=\"pre\">isnan</span></code></a>(x, /[, out, where, casting, order, ...])</p></td>\n",
    "<td><p>Test element-wise for NaN and return result as a boolean array.</p></td>\n",
    "</tr>\n",
    "<tr class=\"row-even\"><td><p><a class=\"reference internal\" href=\"generated/numpy.isnat.html#numpy.isnat\" title=\"numpy.isnat\"><code class=\"xref py py-obj docutils literal notranslate\"><span class=\"pre\">isnat</span></code></a>(x, /[, out, where, casting, order, ...])</p></td>\n",
    "<td><p>Test element-wise for NaT (not a time) and return result as a boolean array.</p></td>\n",
    "</tr>\n",
    "<tr class=\"row-odd\"><td><p><a class=\"reference internal\" href=\"generated/numpy.fabs.html#numpy.fabs\" title=\"numpy.fabs\"><code class=\"xref py py-obj docutils literal notranslate\"><span class=\"pre\">fabs</span></code></a>(x, /[, out, where, casting, order, ...])</p></td>\n",
    "<td><p>Compute the absolute values element-wise.</p></td>\n",
    "</tr>\n",
    "<tr class=\"row-even\"><td><p><a class=\"reference internal\" href=\"generated/numpy.signbit.html#numpy.signbit\" title=\"numpy.signbit\"><code class=\"xref py py-obj docutils literal notranslate\"><span class=\"pre\">signbit</span></code></a>(x, /[, out, where, casting, order, ...])</p></td>\n",
    "<td><p>Returns element-wise True where signbit is set (less than zero).</p></td>\n",
    "</tr>\n",
    "<tr class=\"row-odd\"><td><p><a class=\"reference internal\" href=\"generated/numpy.copysign.html#numpy.copysign\" title=\"numpy.copysign\"><code class=\"xref py py-obj docutils literal notranslate\"><span class=\"pre\">copysign</span></code></a>(x1, x2, /[, out, where, casting, ...])</p></td>\n",
    "<td><p>Change the sign of x1 to that of x2, element-wise.</p></td>\n",
    "</tr>\n",
    "<tr class=\"row-even\"><td><p><a class=\"reference internal\" href=\"generated/numpy.nextafter.html#numpy.nextafter\" title=\"numpy.nextafter\"><code class=\"xref py py-obj docutils literal notranslate\"><span class=\"pre\">nextafter</span></code></a>(x1, x2, /[, out, where, casting, ...])</p></td>\n",
    "<td><p>Return the next floating-point value after x1 towards x2, element-wise.</p></td>\n",
    "</tr>\n",
    "<tr class=\"row-odd\"><td><p><a class=\"reference internal\" href=\"generated/numpy.spacing.html#numpy.spacing\" title=\"numpy.spacing\"><code class=\"xref py py-obj docutils literal notranslate\"><span class=\"pre\">spacing</span></code></a>(x, /[, out, where, casting, order, ...])</p></td>\n",
    "<td><p>Return the distance between x and the nearest adjacent number.</p></td>\n",
    "</tr>\n",
    "<tr class=\"row-even\"><td><p><a class=\"reference internal\" href=\"generated/numpy.modf.html#numpy.modf\" title=\"numpy.modf\"><code class=\"xref py py-obj docutils literal notranslate\"><span class=\"pre\">modf</span></code></a>(x[, out1, out2], / [[, out, where, ...])</p></td>\n",
    "<td><p>Return the fractional and integral parts of an array, element-wise.</p></td>\n",
    "</tr>\n",
    "<tr class=\"row-odd\"><td><p><a class=\"reference internal\" href=\"generated/numpy.ldexp.html#numpy.ldexp\" title=\"numpy.ldexp\"><code class=\"xref py py-obj docutils literal notranslate\"><span class=\"pre\">ldexp</span></code></a>(x1, x2, /[, out, where, casting, ...])</p></td>\n",
    "<td><p>Returns x1 * 2**x2, element-wise.</p></td>\n",
    "</tr>\n",
    "<tr class=\"row-even\"><td><p><a class=\"reference internal\" href=\"generated/numpy.frexp.html#numpy.frexp\" title=\"numpy.frexp\"><code class=\"xref py py-obj docutils literal notranslate\"><span class=\"pre\">frexp</span></code></a>(x[, out1, out2], / [[, out, where, ...])</p></td>\n",
    "<td><p>Decompose the elements of x into mantissa and twos exponent.</p></td>\n",
    "</tr>\n",
    "<tr class=\"row-odd\"><td><p><a class=\"reference internal\" href=\"generated/numpy.fmod.html#numpy.fmod\" title=\"numpy.fmod\"><code class=\"xref py py-obj docutils literal notranslate\"><span class=\"pre\">fmod</span></code></a>(x1, x2, /[, out, where, casting, ...])</p></td>\n",
    "<td><p>Returns the element-wise remainder of division.</p></td>\n",
    "</tr>\n",
    "<tr class=\"row-even\"><td><p><a class=\"reference internal\" href=\"generated/numpy.floor.html#numpy.floor\" title=\"numpy.floor\"><code class=\"xref py py-obj docutils literal notranslate\"><span class=\"pre\">floor</span></code></a>(x, /[, out, where, casting, order, ...])</p></td>\n",
    "<td><p>Return the floor of the input, element-wise.</p></td>\n",
    "</tr>\n",
    "<tr class=\"row-odd\"><td><p><a class=\"reference internal\" href=\"generated/numpy.ceil.html#numpy.ceil\" title=\"numpy.ceil\"><code class=\"xref py py-obj docutils literal notranslate\"><span class=\"pre\">ceil</span></code></a>(x, /[, out, where, casting, order, ...])</p></td>\n",
    "<td><p>Return the ceiling of the input, element-wise.</p></td>\n",
    "</tr>\n",
    "<tr class=\"row-even\"><td><p><a class=\"reference internal\" href=\"generated/numpy.trunc.html#numpy.trunc\" title=\"numpy.trunc\"><code class=\"xref py py-obj docutils literal notranslate\"><span class=\"pre\">trunc</span></code></a>(x, /[, out, where, casting, order, ...])</p></td>\n",
    "<td><p>Return the truncated value of the input, element-wise.</p></td>\n",
    "</tr>\n",
    "</tbody>\n",
    "</table>\n",
    "</div>\n",
    "</section>"
   ]
  },
  {
   "cell_type": "markdown",
   "id": "ef8b4533-eab9-45bc-88ae-e5b41a4deba8",
   "metadata": {
    "jp-MarkdownHeadingCollapsed": true
   },
   "source": [
    "#### Ufunc creation"
   ]
  },
  {
   "cell_type": "code",
   "execution_count": 16,
   "id": "efe39d7a-1536-474c-a0e5-485219347675",
   "metadata": {},
   "outputs": [
    {
     "name": "stdout",
     "output_type": "stream",
     "text": [
      "[7 9]\n"
     ]
    }
   ],
   "source": [
    "def add_strings(x, y):\n",
    "    return int(int(x) + int(y))\n",
    "\n",
    "ufunc = np.frompyfunc(add_strings, 2, 1)\n",
    "print(ufunc(np.array([2,3]),np.array([5,6])))"
   ]
  },
  {
   "cell_type": "markdown",
   "id": "492d3e0e-1bd4-4539-ae16-c9c1ec0dcfa8",
   "metadata": {
    "jp-MarkdownHeadingCollapsed": true
   },
   "source": [
    "### Indexing Slicing"
   ]
  },
  {
   "cell_type": "code",
   "execution_count": 17,
   "id": "7c91a1ec-c9d7-4cbb-9c66-da4936d8f29d",
   "metadata": {},
   "outputs": [
    {
     "name": "stdout",
     "output_type": "stream",
     "text": [
      "60 \n",
      "\n",
      "[[20 30]\n",
      " [50 60]] \n",
      "\n",
      "[60 70 80 90] \n",
      "\n",
      "[[10 20 30]\n",
      " [70 80 90]] \n",
      "\n",
      "[[10 20 30]\n",
      " [70 80 90]] \n",
      "\n",
      "[[10 30]\n",
      " [40 60]\n",
      " [70 90]] \n",
      "\n"
     ]
    }
   ],
   "source": [
    "arr = np.array([[10, 20, 30], [40, 50, 60], [70, 80, 90]])\n",
    "print(arr[1, 2], '\\n')#Basic Indexing\n",
    "print(arr[0:2, 1:3], '\\n')#Slicing\n",
    "print(arr[arr > 50], '\\n')#Boolean Indexing\n",
    "indices = [0, 2];print(arr[indices], '\\n')#Fancy Indexing\n",
    "print(arr[[0, 2]], '\\n')# Access specific rows\n",
    "print(arr[:, [0, 2]], '\\n')# Access specific columns"
   ]
  },
  {
   "cell_type": "markdown",
   "id": "cd6f6ba3-546a-4992-9504-12aaa5675694",
   "metadata": {
    "jp-MarkdownHeadingCollapsed": true
   },
   "source": [
    "### Iteration"
   ]
  },
  {
   "cell_type": "code",
   "execution_count": 18,
   "id": "534769d1-abcf-4735-a411-8d93b34366e0",
   "metadata": {},
   "outputs": [
    {
     "name": "stdout",
     "output_type": "stream",
     "text": [
      "[10 20 30]\n",
      "[40 50 60]\n",
      "[70 80 90]\n"
     ]
    }
   ],
   "source": [
    "for row in arr:\n",
    "    print(row)"
   ]
  },
  {
   "cell_type": "code",
   "execution_count": 19,
   "id": "b1277276-a9bd-456f-a4ea-f132d086a8b8",
   "metadata": {},
   "outputs": [
    {
     "name": "stdout",
     "output_type": "stream",
     "text": [
      "10\t20\t30\t40\t50\t60\t70\t80\t90\t\n",
      "10\t40\t70\t20\t50\t80\t30\t60\t90\t\n",
      "10\t20\t30\t40\t50\t60\t70\t80\t90\t"
     ]
    }
   ],
   "source": [
    "for i in arr.flat:\n",
    "    print(i, end='\\t')\n",
    "    \n",
    "print()\n",
    "\n",
    "for element in np.nditer(arr,op_flags=['readwrite'],order='F'):\n",
    "    print(element, end='\\t')\n",
    "\n",
    "print()\n",
    "\n",
    "for i in range(arr.shape[0]):  # iterate over rows\n",
    "    for j in range(arr.shape[1]):  # iterate over columns\n",
    "        print(arr[i, j], end='\\t')"
   ]
  },
  {
   "cell_type": "code",
   "execution_count": 20,
   "id": "ef6529a4-3dcd-411c-a744-397252eac6d6",
   "metadata": {},
   "outputs": [
    {
     "name": "stdout",
     "output_type": "stream",
     "text": [
      "(0, 0) 10\t(0, 1) 20\t(0, 2) 30\t(1, 0) 40\t(1, 1) 50\t(1, 2) 60\t(2, 0) 70\t(2, 1) 80\t(2, 2) 90\t\n",
      "(0, 0) 10\t(0, 1) 20\t(0, 2) 30\t(1, 0) 40\t(1, 1) 50\t(1, 2) 60\t(2, 0) 70\t(2, 1) 80\t(2, 2) 90\t\n",
      "\n"
     ]
    }
   ],
   "source": [
    "for index, element in np.ndenumerate(arr):\n",
    "    print(index, element,end='\\t')\n",
    "\n",
    "print()\n",
    "\n",
    "for index in np.ndindex(arr.shape):\n",
    "    print(index, arr[index],end='\\t')\n",
    "\n",
    "print('\\n')"
   ]
  },
  {
   "cell_type": "code",
   "execution_count": 21,
   "id": "dd5b1c41-2151-4dea-b9a5-9df66a637cc6",
   "metadata": {},
   "outputs": [
    {
     "name": "stdout",
     "output_type": "stream",
     "text": [
      "[[ 100  400  900]\n",
      " [1600 2500 3600]\n",
      " [4900 6400 8100]]\n"
     ]
    }
   ],
   "source": [
    "vec_square = np.vectorize(lambda x:x**2)\n",
    "print(vec_square(arr))"
   ]
  },
  {
   "cell_type": "code",
   "execution_count": 22,
   "id": "396f6215-09cc-463e-8ff5-c6d4f16da811",
   "metadata": {},
   "outputs": [
    {
     "name": "stdout",
     "output_type": "stream",
     "text": [
      "Index: 0, Value: [10 20 30]\n",
      "Index: 1, Value: [40 50 60]\n",
      "Index: 2, Value: [70 80 90]\n"
     ]
    }
   ],
   "source": [
    "for index, value in enumerate(arr):\n",
    "    print(f\"Index: {index}, Value: {value}\")"
   ]
  },
  {
   "cell_type": "markdown",
   "id": "82a37964-b911-408a-8aa4-ab2ec7574771",
   "metadata": {},
   "source": [
    "### Shape Manipulation"
   ]
  },
  {
   "cell_type": "markdown",
   "id": "7e89f834-928b-447a-bdbf-c927250a70f0",
   "metadata": {
    "jp-MarkdownHeadingCollapsed": true
   },
   "source": [
    "#### Array Reshaping"
   ]
  },
  {
   "cell_type": "code",
   "execution_count": 23,
   "id": "2d77e5e0-c366-4808-8e77-a52bdf031a92",
   "metadata": {},
   "outputs": [
    {
     "name": "stdout",
     "output_type": "stream",
     "text": [
      "[[ 0  1  2  3  4]\n",
      " [ 5  6  7  8  9]\n",
      " [10 11 12 13 14]\n",
      " [15 16 17 18 19]\n",
      " [20 21 22 23 24]\n",
      " [25 26 27 28 29]]\n",
      "\n",
      "\n",
      "\n",
      "[[[ 0  1  2]\n",
      "  [ 3  4  5]\n",
      "  [ 6  7  8]\n",
      "  [ 9 10 11]\n",
      "  [12 13 14]]\n",
      "\n",
      " [[15 16 17]\n",
      "  [18 19 20]\n",
      "  [21 22 23]\n",
      "  [24 25 26]\n",
      "  [27 28 29]]]\n",
      "\n",
      "\n",
      "\n",
      "(array([[4]]), array([[[5]]]))\n"
     ]
    }
   ],
   "source": [
    "arr=np.arange(30)\n",
    "print(arr.reshape(6,5))\n",
    "print('\\n\\n')\n",
    "print(arr.reshape((2, -1, 3)))  # -1 means \"whatever is needed\"\n",
    "print('\\n\\n')\n",
    "print(np.atleast_2d(4,[[[5]]]))#atleast_1d,atleast_3d also exists"
   ]
  },
  {
   "cell_type": "markdown",
   "id": "1cfbc0e5-b043-4910-bf5d-ad1859719c70",
   "metadata": {
    "jp-MarkdownHeadingCollapsed": true
   },
   "source": [
    "#### Array Stacking"
   ]
  },
  {
   "cell_type": "code",
   "execution_count": 24,
   "id": "e6113e60-970f-42ad-a094-26dc577aca1c",
   "metadata": {},
   "outputs": [],
   "source": [
    "a=np.array([\n",
    "    [1,2],\n",
    "    [3,4]\n",
    "])\n",
    "\n",
    "b=np.array([\n",
    "    [5,6],\n",
    "    [7,8]\n",
    "])"
   ]
  },
  {
   "cell_type": "code",
   "execution_count": 25,
   "id": "79572716-be6c-4224-b434-5767784388ab",
   "metadata": {},
   "outputs": [
    {
     "name": "stdout",
     "output_type": "stream",
     "text": [
      "[[1 2 5 6]\n",
      " [3 4 7 8]]\n"
     ]
    }
   ],
   "source": [
    "print(np.hstack((a,b)))#a and b are required to have same number of rows"
   ]
  },
  {
   "cell_type": "code",
   "execution_count": 26,
   "id": "c5205ac2-51cd-4743-9ca6-59228d85ace9",
   "metadata": {},
   "outputs": [
    {
     "name": "stdout",
     "output_type": "stream",
     "text": [
      "[[1 2]\n",
      " [3 4]\n",
      " [5 6]\n",
      " [7 8]]\n"
     ]
    }
   ],
   "source": [
    "print(np.vstack((a, b)))#a and b are required to have same number of columns"
   ]
  },
  {
   "cell_type": "code",
   "execution_count": 27,
   "id": "87f3352a-568c-46e5-8c9d-bfdb6de36966",
   "metadata": {},
   "outputs": [
    {
     "name": "stdout",
     "output_type": "stream",
     "text": [
      "[[[1 5]\n",
      "  [2 6]]\n",
      "\n",
      " [[3 7]\n",
      "  [4 8]]]\n"
     ]
    }
   ],
   "source": [
    "print(np.dstack((a,b)))#a and b are required to have same SHAPE because stacking is being done in other (here 3rd) axis"
   ]
  },
  {
   "cell_type": "code",
   "execution_count": 28,
   "id": "e888e33c-7cf1-4529-9cd2-87560aae9118",
   "metadata": {},
   "outputs": [
    {
     "name": "stdout",
     "output_type": "stream",
     "text": [
      "[[1 2]\n",
      " [3 4]\n",
      " [5 6]\n",
      " [7 8]]\n"
     ]
    },
    {
     "name": "stderr",
     "output_type": "stream",
     "text": [
      "C:\\Users\\Hp\\AppData\\Local\\Temp\\ipykernel_2096\\4011443607.py:1: DeprecationWarning: `row_stack` alias is deprecated. Use `np.vstack` directly.\n",
      "  print(np.row_stack((a, b)))#Work as vstack; Raises DepracationWarning\n"
     ]
    }
   ],
   "source": [
    "print(np.row_stack((a, b)))#Work as vstack; Raises DepracationWarning"
   ]
  },
  {
   "cell_type": "code",
   "execution_count": 29,
   "id": "1d9a58c5-7efd-4578-bfc2-4bc870267873",
   "metadata": {},
   "outputs": [
    {
     "name": "stdout",
     "output_type": "stream",
     "text": [
      "[[1 2 5 6]\n",
      " [3 4 7 8]]\n"
     ]
    }
   ],
   "source": [
    "print(np.column_stack((a, b)))# Important # If arrays are 2D then works as np.hstack.\n",
    "#BUT if both arrays are 1D then considers both arrays as COLUMNS and create a 2D matrix\n",
    "#UNLIKE np.hstack which in case of 1D arrays returns 1D array with both arrays concatenated"
   ]
  },
  {
   "cell_type": "code",
   "execution_count": 30,
   "id": "13d372b8-e311-4166-9c08-297364171da7",
   "metadata": {},
   "outputs": [
    {
     "name": "stdout",
     "output_type": "stream",
     "text": [
      "[[1 2]\n",
      " [3 4]\n",
      " [5 6]\n",
      " [7 8]]\n",
      "____________\n",
      "\n",
      "[[1 2 5 6]\n",
      " [3 4 7 8]]\n"
     ]
    }
   ],
   "source": [
    "# UNLIKE np.stack, This function does not create new dimension\n",
    "print(np.concatenate((a, b), axis=0))\n",
    "print('____________\\n')\n",
    "print(np.concatenate((a, b), axis=1))"
   ]
  },
  {
   "cell_type": "code",
   "execution_count": 31,
   "id": "2753f2dc-c88b-411f-a72c-4f01d665d5c7",
   "metadata": {},
   "outputs": [
    {
     "name": "stdout",
     "output_type": "stream",
     "text": [
      "[[[1 2]\n",
      "  [3 4]]\n",
      "\n",
      " [[5 6]\n",
      "  [7 8]]]\n",
      "_____________\n",
      "\n",
      "[[[1 2]\n",
      "  [5 6]]\n",
      "\n",
      " [[3 4]\n",
      "  [7 8]]]\n"
     ]
    }
   ],
   "source": [
    "# UNLIKE np.concatenate, This function creates new dimension\n",
    "print(np.stack((a, b), axis=0))\n",
    "print('_____________\\n')\n",
    "print(np.stack((a, b), axis=1))"
   ]
  },
  {
   "cell_type": "code",
   "execution_count": 32,
   "id": "75a07cf4-e6e3-4af7-afea-6eaf6411f56e",
   "metadata": {},
   "outputs": [
    {
     "name": "stdout",
     "output_type": "stream",
     "text": [
      "[[1 2 1 2 1 2 1 2 1 2]\n",
      " [3 4 3 4 3 4 3 4 3 4]]\n"
     ]
    }
   ],
   "source": [
    "print(np.tile(a,reps=5))\n",
    "#Repeats the array a along each dimension specified by reps. This does not stack arrays per se, but it creates a repeated pattern."
   ]
  },
  {
   "cell_type": "code",
   "execution_count": 33,
   "id": "77bd0467-afa5-48e9-a8af-575d58169cb8",
   "metadata": {},
   "outputs": [
    {
     "name": "stdout",
     "output_type": "stream",
     "text": [
      "[[1 1 1 1 1 2 2 2 2 2]\n",
      " [3 3 3 3 3 4 4 4 4 4]]\n"
     ]
    }
   ],
   "source": [
    "print(np.repeat(a,5, axis=1))\n",
    "#Repeats elements in the array along a specified axis. This also doesn’t strictly stack, but it can mimic stacking by repeating arrays."
   ]
  },
  {
   "cell_type": "markdown",
   "id": "32b5ee39-2c51-4d0f-be0d-00bae1f48848",
   "metadata": {
    "jp-MarkdownHeadingCollapsed": true
   },
   "source": [
    "#### Array Splitting"
   ]
  },
  {
   "cell_type": "code",
   "execution_count": 34,
   "id": "fc0d76ca-696f-4113-851b-8f3f704481ed",
   "metadata": {},
   "outputs": [],
   "source": [
    "arr1 = np.arange(12)\n",
    "arr2 = np.array([[1, 2, 3], [4, 5, 6]])\n",
    "arr3 = np.array([[[1, 2], [3, 4]], [[5, 6], [7, 8]]])"
   ]
  },
  {
   "cell_type": "code",
   "execution_count": 35,
   "id": "6b312050-9e86-43f0-9efd-e25cfa5b7c77",
   "metadata": {},
   "outputs": [
    {
     "name": "stdout",
     "output_type": "stream",
     "text": [
      "[array([0, 1, 2]), array([3, 4, 5]), array([6, 7, 8]), array([ 9, 10, 11])]\n",
      "\n"
     ]
    },
    {
     "ename": "ValueError",
     "evalue": "array split does not result in an equal division",
     "output_type": "error",
     "traceback": [
      "\u001b[1;31m---------------------------------------------------------------------------\u001b[0m",
      "\u001b[1;31mValueError\u001b[0m                                Traceback (most recent call last)",
      "Cell \u001b[1;32mIn[35], line 2\u001b[0m\n\u001b[0;32m      1\u001b[0m \u001b[38;5;28mprint\u001b[39m(np\u001b[38;5;241m.\u001b[39msplit(arr1, \u001b[38;5;241m4\u001b[39m),end\u001b[38;5;241m=\u001b[39m\u001b[38;5;124m'\u001b[39m\u001b[38;5;130;01m\\n\u001b[39;00m\u001b[38;5;130;01m\\n\u001b[39;00m\u001b[38;5;124m'\u001b[39m)\u001b[38;5;66;03m# Split the array into 3 equal parts\u001b[39;00m\n\u001b[1;32m----> 2\u001b[0m \u001b[38;5;28mprint\u001b[39m(\u001b[43mnp\u001b[49m\u001b[38;5;241;43m.\u001b[39;49m\u001b[43msplit\u001b[49m\u001b[43m(\u001b[49m\u001b[43marr1\u001b[49m\u001b[43m,\u001b[49m\u001b[43m \u001b[49m\u001b[38;5;241;43m5\u001b[39;49m\u001b[43m)\u001b[49m)\u001b[38;5;66;03m# Raises Error due to uneven distribution\u001b[39;00m\n",
      "File \u001b[1;32m~\\AppData\\Local\\Programs\\Python\\Python313\\Lib\\site-packages\\numpy\\lib\\_shape_base_impl.py:889\u001b[0m, in \u001b[0;36msplit\u001b[1;34m(ary, indices_or_sections, axis)\u001b[0m\n\u001b[0;32m    887\u001b[0m     N \u001b[38;5;241m=\u001b[39m ary\u001b[38;5;241m.\u001b[39mshape[axis]\n\u001b[0;32m    888\u001b[0m     \u001b[38;5;28;01mif\u001b[39;00m N \u001b[38;5;241m%\u001b[39m sections:\n\u001b[1;32m--> 889\u001b[0m         \u001b[38;5;28;01mraise\u001b[39;00m \u001b[38;5;167;01mValueError\u001b[39;00m(\n\u001b[0;32m    890\u001b[0m             \u001b[38;5;124m'\u001b[39m\u001b[38;5;124marray split does not result in an equal division\u001b[39m\u001b[38;5;124m'\u001b[39m) \u001b[38;5;28;01mfrom\u001b[39;00m \u001b[38;5;28;01mNone\u001b[39;00m\n\u001b[0;32m    891\u001b[0m \u001b[38;5;28;01mreturn\u001b[39;00m array_split(ary, indices_or_sections, axis)\n",
      "\u001b[1;31mValueError\u001b[0m: array split does not result in an equal division"
     ]
    }
   ],
   "source": [
    "print(np.split(arr1, 4),end='\\n\\n')# Split the array into 3 equal parts\n",
    "print(np.split(arr1, 5))# Raises Error due to uneven distribution"
   ]
  },
  {
   "cell_type": "code",
   "execution_count": null,
   "id": "36dae71a-7934-450b-aea7-e0fc4dec3c12",
   "metadata": {},
   "outputs": [],
   "source": [
    "print(np.array_split(arr1, 5))# similar to np.split(), but it allows splitting an array into unequal parts\n",
    "print(np.array_split(arr1, 4))"
   ]
  },
  {
   "cell_type": "code",
   "execution_count": null,
   "id": "96db7645-be05-40aa-be0a-eba3031476b8",
   "metadata": {},
   "outputs": [],
   "source": [
    "for i in np.hsplit(arr2,3):\n",
    "    print(i,end='\\n\\n')"
   ]
  },
  {
   "cell_type": "code",
   "execution_count": null,
   "id": "511de1b6-5f1b-4fda-b9a3-7cbcfad2b174",
   "metadata": {},
   "outputs": [],
   "source": [
    "for i in np.vsplit(arr2,2):\n",
    "    print(i,end='\\n\\n')"
   ]
  },
  {
   "cell_type": "code",
   "execution_count": null,
   "id": "c02de1a2-900b-4b1b-b305-6fb7c2d576ab",
   "metadata": {},
   "outputs": [],
   "source": [
    "for i in np.dsplit(arr3,2):\n",
    "    print(i, end='\\n\\n')"
   ]
  },
  {
   "cell_type": "markdown",
   "id": "ce483256-de42-4090-b2ab-b91d3e6bdc22",
   "metadata": {
    "jp-MarkdownHeadingCollapsed": true
   },
   "source": [
    "### Questions"
   ]
  },
  {
   "cell_type": "code",
   "execution_count": null,
   "id": "a7d36c2b-c341-4afc-955f-1d65500771b0",
   "metadata": {},
   "outputs": [],
   "source": [
    "arr=np.array([True,True,False])\n",
    "print(\n",
    "    np.all(arr),\n",
    "    arr.all(),\n",
    "    np.any(arr),\n",
    "    arr.any(),\n",
    "sep='\\n')"
   ]
  }
 ],
 "metadata": {
  "kernelspec": {
   "display_name": "Python 3 (ipykernel)",
   "language": "python",
   "name": "python3"
  },
  "language_info": {
   "codemirror_mode": {
    "name": "ipython",
    "version": 3
   },
   "file_extension": ".py",
   "mimetype": "text/x-python",
   "name": "python",
   "nbconvert_exporter": "python",
   "pygments_lexer": "ipython3",
   "version": "3.13.0"
  }
 },
 "nbformat": 4,
 "nbformat_minor": 5
}
