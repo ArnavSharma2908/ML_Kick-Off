{
 "cells": [
  {
   "cell_type": "markdown",
   "id": "65aa2bd8-970a-49e4-971b-dbc4cbe6b519",
   "metadata": {},
   "source": [
    "# **Numpy**: **Num**erical **Py**thon\n",
    "### Notes By: *Arnav*\n",
    "\n",
    "##### Abstract: This notebook is made on Jupyter-Notebook in IPython Kernel Detailing about Python Library \"Numpy\" possessing multiple source including [W3School](https://www.w3schools.com/python/numpy)"
   ]
  },
  {
   "cell_type": "markdown",
   "id": "583b40a3-4c13-4330-8e43-70106508d4f6",
   "metadata": {},
   "source": [
    "Short Notes:\n",
    "1. np.arange\n",
    "2. ndarray.reshape"
   ]
  },
  {
   "cell_type": "markdown",
   "id": "30d23612-a183-492a-a235-99f57a5222f0",
   "metadata": {},
   "source": [
    "#### Basic Importing, ALiasing and Display"
   ]
  },
  {
   "cell_type": "code",
   "execution_count": 1,
   "id": "a6723309-6fc2-498e-b53d-82808aac9d77",
   "metadata": {},
   "outputs": [],
   "source": [
    "import numpy as np"
   ]
  },
  {
   "cell_type": "code",
   "execution_count": 2,
   "id": "48de70cf-ec6a-4107-bb4f-9a4bdc4f3e47",
   "metadata": {},
   "outputs": [
    {
     "name": "stdout",
     "output_type": "stream",
     "text": [
      "[[2 3 5 3]\n",
      " [4 5 9 5]\n",
      " [7 9 8 1]]\n",
      "<class 'numpy.ndarray'>\n"
     ]
    }
   ],
   "source": [
    "ls_a=[[2,3,5,3],[4,5,9,5],[7,9,8,1]]\n",
    "a=np.array(ls_a)\n",
    "print(a)\n",
    "print(type(a))"
   ]
  },
  {
   "cell_type": "markdown",
   "id": "fc07a095-e6d9-46de-a269-0c5f8113e71c",
   "metadata": {
    "jp-MarkdownHeadingCollapsed": true
   },
   "source": [
    "#### Common Attributes of class 'numpy.ndarray':"
   ]
  },
  {
   "cell_type": "code",
   "execution_count": 3,
   "id": "2d6b3521-69ed-4c37-ba65-fd65cf891833",
   "metadata": {},
   "outputs": [
    {
     "name": "stdout",
     "output_type": "stream",
     "text": [
      "Dimension:\t 2\n",
      "Shape:\t\t (3, 4)\n",
      "Size:\t\t 12\n",
      "DataType:\t int64\n",
      "ItemSize:\t 8\n",
      "Data:\t\t <memory at 0x000001CFA4532A80>\n",
      "Flat Array:\t\t [2 3 5 3 4 5 9 5 7 9 8 1]\n",
      "\n",
      "##################################################\n",
      "\n"
     ]
    }
   ],
   "source": [
    "a=np.array([[2,3,5,3],[4,5,9,5],[7,9,8,1]])\n",
    "print(\"Dimension:\\t\",a.ndim)\n",
    "print(\"Shape:\\t\\t\",a.shape)\n",
    "print(\"Size:\\t\\t\",a.size)\n",
    "print(\"DataType:\\t\",a.dtype)\n",
    "print(\"ItemSize:\\t\",a.itemsize)\n",
    "print(\"Data:\\t\\t\",a.data)\n",
    "print(\"Flat Array:\\t\\t\",np.array(a.flat))\n",
    "print('\\n'+'#'*50+'\\n')\n"
   ]
  },
  {
   "cell_type": "markdown",
   "id": "bce5e2e4-22fb-4bc6-bd77-49d63eb033fc",
   "metadata": {},
   "source": [
    "#### Array Creation"
   ]
  },
  {
   "cell_type": "code",
   "execution_count": 4,
   "id": "6a8f4f1a-de98-4aab-a64b-4dafc6f113de",
   "metadata": {},
   "outputs": [
    {
     "name": "stdout",
     "output_type": "stream",
     "text": [
      "[[1.5 2.  3. ]\n",
      " [4.  5.  6. ]]\n",
      "\n",
      "[[0. 0. 0. 0.]\n",
      " [0. 0. 0. 0.]\n",
      " [0. 0. 0. 0.]]\n",
      "\n",
      "[[0. 0. 0. 0.]\n",
      " [0. 0. 0. 0.]\n",
      " [0. 0. 0. 0.]]\n",
      "\n",
      "[[3.33772792e-307 4.22786102e-307 3.44899350e-307]\n",
      " [2.44774252e-307 3.44900708e-307 9.94648370e+086]]\n",
      "\n",
      "[10 15 20 25]\n",
      "\n",
      "[[0 1 2 3 4]\n",
      " [5 6 7 8 9]]\n",
      "\n",
      "[0.   0.25 0.5  0.75 1.   1.25 1.5  1.75 2.  ]\n"
     ]
    }
   ],
   "source": [
    "print(\n",
    "    np.array([(1.5, 2, 3), (4, 5, 6)], dtype='float64'),\n",
    "    np.zeros((3, 4)),\n",
    "    np.zeros((3, 4)),\n",
    "    np.empty((2, 3)),\n",
    "    np.arange(10, 30, 5),\n",
    "    np.arange(10).reshape(2,5),\n",
    "    np.linspace(0, 2, 9),\n",
    "    \n",
    "sep='\\n\\n')"
   ]
  },
  {
   "cell_type": "markdown",
   "id": "871b852b-a291-44d6-859f-80781a311d81",
   "metadata": {},
   "source": [
    "#### Array Printing Options\n",
    "```python\n",
    "np.set_printoptions(precision=None, suppress=None, threshold=None, linewidth=None, formatter=None)\n",
    "np.set_printoptions(threshold=sys.maxsize)#Prints whole array instead of ... out the large arrays\n",
    "```\n"
   ]
  },
  {
   "cell_type": "markdown",
   "id": "2ed5cfab-d4f4-4f9d-970f-8f8f0d8b16e1",
   "metadata": {},
   "source": [
    "#### Array Operations"
   ]
  },
  {
   "cell_type": "code",
   "execution_count": 5,
   "id": "1ea9f454-29c6-4bda-9ec2-ef4328331734",
   "metadata": {},
   "outputs": [
    {
     "name": "stdout",
     "output_type": "stream",
     "text": [
      "[[-1 -6]\n",
      " [-3 -3]]\n",
      "\n",
      "[[  9 344]\n",
      " [ 27  65]]\n",
      "\n",
      "[[ 0.90929743  0.6569866 ]\n",
      " [ 0.         -0.7568025 ]]\n",
      "\n",
      "[[0.5        0.14285714]\n",
      " [0.         0.25      ]]\n",
      "\n",
      "[[ 5 11]\n",
      " [ 3  4]]\n",
      "\n",
      "[[ 5 11]\n",
      " [ 3  4]]\n"
     ]
    }
   ],
   "source": [
    "a = np.array([[1, 1],\n",
    "              [0, 1]])\n",
    "b = np.array([[2, 7],\n",
    "              [3, 4]])\n",
    "\n",
    "print(\n",
    "    a-b,\n",
    "    a+b**3,\n",
    "    a*np.sin(b),\n",
    "    a/b,\n",
    "    a@b,\n",
    "    a.dot(b),\n",
    "    # More operators Available\n",
    "sep='\\n\\n')"
   ]
  },
  {
   "cell_type": "code",
   "execution_count": 6,
   "id": "ec78839f-439a-4e29-bda7-ea983ef7538f",
   "metadata": {},
   "outputs": [
    {
     "name": "stdout",
     "output_type": "stream",
     "text": [
      "Before:\n",
      "a=\n",
      "[[1 1]\n",
      " [0 1]]\n",
      "b=\n",
      "[[2 7]\n",
      " [3 4]]\n",
      "\n",
      "After:\n",
      "a=\n",
      "[[2 7]\n",
      " [0 4]]\n",
      "b=\n",
      "[[2 7]\n",
      " [3 4]]\n"
     ]
    }
   ],
   "source": [
    "print(f\"Before:\\na=\\n{a}\\nb=\\n{b}\")\n",
    "a *= b\n",
    "# More operators Available\n",
    "print(f\"\\nAfter:\\na=\\n{a}\\nb=\\n{b}\")"
   ]
  },
  {
   "cell_type": "markdown",
   "id": "9ad714b7-32e1-4cd4-a03c-781b68f10b17",
   "metadata": {
    "jp-MarkdownHeadingCollapsed": true
   },
   "source": [
    "#### Universal Functions (ufunc)"
   ]
  },
  {
   "cell_type": "code",
   "execution_count": 7,
   "id": "a232fa29-95d8-40d7-9e4f-5f5cb8017d40",
   "metadata": {},
   "outputs": [
    {
     "name": "stdout",
     "output_type": "stream",
     "text": [
      "[0 1 2]\n",
      "[1.         2.71828183 7.3890561 ]\n",
      "[0.         1.         1.41421356]\n"
     ]
    }
   ],
   "source": [
    "a=np.arange(3)\n",
    "print(a)\n",
    "print(np.exp(a))\n",
    "print(np.sqrt(a))"
   ]
  },
  {
   "cell_type": "markdown",
   "id": "492d3e0e-1bd4-4539-ae16-c9c1ec0dcfa8",
   "metadata": {
    "jp-MarkdownHeadingCollapsed": true
   },
   "source": [
    "#### Indexing Slicing"
   ]
  },
  {
   "cell_type": "code",
   "execution_count": 8,
   "id": "7c91a1ec-c9d7-4cbb-9c66-da4936d8f29d",
   "metadata": {},
   "outputs": [
    {
     "name": "stdout",
     "output_type": "stream",
     "text": [
      "60 \n",
      "\n",
      "[[20 30]\n",
      " [50 60]] \n",
      "\n",
      "[60 70 80 90] \n",
      "\n",
      "[[10 20 30]\n",
      " [70 80 90]] \n",
      "\n",
      "[[10 20 30]\n",
      " [70 80 90]] \n",
      "\n",
      "[[10 30]\n",
      " [40 60]\n",
      " [70 90]] \n",
      "\n"
     ]
    }
   ],
   "source": [
    "arr = np.array([[10, 20, 30], [40, 50, 60], [70, 80, 90]])\n",
    "print(arr[1, 2], '\\n')#Basic Indexing\n",
    "print(arr[0:2, 1:3], '\\n')#Slicing\n",
    "print(arr[arr > 50], '\\n')#Boolean Indexing\n",
    "indices = [0, 2];print(arr[indices], '\\n')#Fancy Indexing\n",
    "print(arr[[0, 2]], '\\n')# Access specific rows\n",
    "print(arr[:, [0, 2]], '\\n')# Access specific columns"
   ]
  },
  {
   "cell_type": "markdown",
   "id": "cd6f6ba3-546a-4992-9504-12aaa5675694",
   "metadata": {},
   "source": [
    "#### Iteration"
   ]
  },
  {
   "cell_type": "code",
   "execution_count": 9,
   "id": "534769d1-abcf-4735-a411-8d93b34366e0",
   "metadata": {},
   "outputs": [
    {
     "name": "stdout",
     "output_type": "stream",
     "text": [
      "[10 20 30]\n",
      "[40 50 60]\n",
      "[70 80 90]\n"
     ]
    }
   ],
   "source": [
    "for row in arr:\n",
    "    print(row)"
   ]
  },
  {
   "cell_type": "code",
   "execution_count": 10,
   "id": "b1277276-a9bd-456f-a4ea-f132d086a8b8",
   "metadata": {},
   "outputs": [
    {
     "name": "stdout",
     "output_type": "stream",
     "text": [
      "10\t20\t30\t40\t50\t60\t70\t80\t90\t\n",
      "10\t40\t70\t20\t50\t80\t30\t60\t90\t\n",
      "10\t20\t30\t40\t50\t60\t70\t80\t90\t"
     ]
    }
   ],
   "source": [
    "for i in arr.flat:\n",
    "    print(i, end='\\t')\n",
    "    \n",
    "print()\n",
    "\n",
    "for element in np.nditer(arr,op_flags=['readwrite'],order='F'):\n",
    "    print(element, end='\\t')\n",
    "\n",
    "print()\n",
    "\n",
    "for i in range(arr.shape[0]):  # iterate over rows\n",
    "    for j in range(arr.shape[1]):  # iterate over columns\n",
    "        print(arr[i, j], end='\\t')"
   ]
  },
  {
   "cell_type": "code",
   "execution_count": 11,
   "id": "ef6529a4-3dcd-411c-a744-397252eac6d6",
   "metadata": {},
   "outputs": [
    {
     "name": "stdout",
     "output_type": "stream",
     "text": [
      "(0, 0) 10\t(0, 1) 20\t(0, 2) 30\t(1, 0) 40\t(1, 1) 50\t(1, 2) 60\t(2, 0) 70\t(2, 1) 80\t(2, 2) 90\t\n",
      "(0, 0) 10\t(0, 1) 20\t(0, 2) 30\t(1, 0) 40\t(1, 1) 50\t(1, 2) 60\t(2, 0) 70\t(2, 1) 80\t(2, 2) 90\t\n",
      "\n"
     ]
    }
   ],
   "source": [
    "for index, element in np.ndenumerate(arr):\n",
    "    print(index, element,end='\\t')\n",
    "\n",
    "print()\n",
    "\n",
    "for index in np.ndindex(arr.shape):\n",
    "    print(index, arr[index],end='\\t')\n",
    "\n",
    "print('\\n')"
   ]
  },
  {
   "cell_type": "code",
   "execution_count": 12,
   "id": "dd5b1c41-2151-4dea-b9a5-9df66a637cc6",
   "metadata": {},
   "outputs": [
    {
     "name": "stdout",
     "output_type": "stream",
     "text": [
      "[[ 100  400  900]\n",
      " [1600 2500 3600]\n",
      " [4900 6400 8100]]\n"
     ]
    }
   ],
   "source": [
    "vec_square = np.vectorize(lambda x:x**2)\n",
    "print(vec_square(arr))"
   ]
  },
  {
   "cell_type": "code",
   "execution_count": 13,
   "id": "396f6215-09cc-463e-8ff5-c6d4f16da811",
   "metadata": {},
   "outputs": [
    {
     "name": "stdout",
     "output_type": "stream",
     "text": [
      "Index: 0, Value: [10 20 30]\n",
      "Index: 1, Value: [40 50 60]\n",
      "Index: 2, Value: [70 80 90]\n"
     ]
    }
   ],
   "source": [
    "for index, value in enumerate(arr):\n",
    "    print(f\"Index: {index}, Value: {value}\")"
   ]
  }
 ],
 "metadata": {
  "kernelspec": {
   "display_name": "Python 3 (ipykernel)",
   "language": "python",
   "name": "python3"
  },
  "language_info": {
   "codemirror_mode": {
    "name": "ipython",
    "version": 3
   },
   "file_extension": ".py",
   "mimetype": "text/x-python",
   "name": "python",
   "nbconvert_exporter": "python",
   "pygments_lexer": "ipython3",
   "version": "3.12.6"
  }
 },
 "nbformat": 4,
 "nbformat_minor": 5
}
