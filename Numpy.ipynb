{
 "cells": [
  {
   "cell_type": "markdown",
   "id": "65aa2bd8-970a-49e4-971b-dbc4cbe6b519",
   "metadata": {},
   "source": [
    "# **Numpy**: **Num**erical **Py**thon\n",
    "### Notes By: *Arnav*\n",
    "\n",
    "##### Abstract: This notebook is made on Jupyter-Notebook in IPython Kernel Detailing about Python Library \"Numpy\" possessing multiple source including [W3School](https://www.w3schools.com/python/numpy)"
   ]
  },
  {
   "cell_type": "markdown",
   "id": "583b40a3-4c13-4330-8e43-70106508d4f6",
   "metadata": {},
   "source": [
    "Short Notes:\n",
    "1. np.arange\n",
    "2. ndarray.reshape"
   ]
  },
  {
   "cell_type": "markdown",
   "id": "30d23612-a183-492a-a235-99f57a5222f0",
   "metadata": {
    "jp-MarkdownHeadingCollapsed": true
   },
   "source": [
    "### Basic Importing, ALiasing and Display"
   ]
  },
  {
   "cell_type": "code",
   "execution_count": null,
   "id": "a6723309-6fc2-498e-b53d-82808aac9d77",
   "metadata": {},
   "outputs": [],
   "source": [
    "import numpy as np"
   ]
  },
  {
   "cell_type": "code",
   "execution_count": null,
   "id": "48de70cf-ec6a-4107-bb4f-9a4bdc4f3e47",
   "metadata": {},
   "outputs": [],
   "source": [
    "ls_a=[[2,3,5,3],[4,5,9,5],[7,9,8,1]]\n",
    "a=np.array(ls_a)\n",
    "print(a)\n",
    "print(type(a))"
   ]
  },
  {
   "cell_type": "markdown",
   "id": "fc07a095-e6d9-46de-a269-0c5f8113e71c",
   "metadata": {
    "jp-MarkdownHeadingCollapsed": true
   },
   "source": [
    "### Common Attributes of class 'numpy.ndarray':"
   ]
  },
  {
   "cell_type": "code",
   "execution_count": null,
   "id": "2d6b3521-69ed-4c37-ba65-fd65cf891833",
   "metadata": {},
   "outputs": [],
   "source": [
    "a=np.array([[2,3,5,3],[4,5,9,5],[7,9,8,1]])\n",
    "print(\"Dimension:\\t\",a.ndim)\n",
    "print(\"Shape:\\t\\t\",a.shape)\n",
    "print(\"Size:\\t\\t\",a.size)\n",
    "print(\"DataType:\\t\",a.dtype)\n",
    "print(\"ItemSize:\\t\",a.itemsize)\n",
    "print(\"Data:\\t\\t\",a.data)\n",
    "print(\"Flat Array:\\t\\t\",np.array(a.flat))\n",
    "print('\\n'+'#'*50+'\\n')\n"
   ]
  },
  {
   "cell_type": "markdown",
   "id": "bce5e2e4-22fb-4bc6-bd77-49d63eb033fc",
   "metadata": {
    "jp-MarkdownHeadingCollapsed": true
   },
   "source": [
    "### Array Creation"
   ]
  },
  {
   "cell_type": "code",
   "execution_count": null,
   "id": "6a8f4f1a-de98-4aab-a64b-4dafc6f113de",
   "metadata": {},
   "outputs": [],
   "source": [
    "print(\n",
    "    np.array([(1.5, 2, 3), (4, 5, 6)], dtype='float64'),\n",
    "    np.zeros((3, 4)),\n",
    "    np.zeros((3, 4)),\n",
    "    np.empty((2, 3)),\n",
    "    np.arange(10, 30, 5),\n",
    "    np.arange(10).reshape(2,5),\n",
    "    np.linspace(0, 2, 9),\n",
    "    \n",
    "sep='\\n\\n')"
   ]
  },
  {
   "cell_type": "markdown",
   "id": "871b852b-a291-44d6-859f-80781a311d81",
   "metadata": {
    "jp-MarkdownHeadingCollapsed": true
   },
   "source": [
    "### Array Printing Options\n",
    "```python\n",
    "np.set_printoptions(precision=None, suppress=None, threshold=None, linewidth=None, formatter=None)\n",
    "np.set_printoptions(threshold=sys.maxsize)#Prints whole array instead of ... out the large arrays\n",
    "```\n"
   ]
  },
  {
   "cell_type": "markdown",
   "id": "2ed5cfab-d4f4-4f9d-970f-8f8f0d8b16e1",
   "metadata": {
    "jp-MarkdownHeadingCollapsed": true
   },
   "source": [
    "### Array Operations"
   ]
  },
  {
   "cell_type": "code",
   "execution_count": null,
   "id": "1ea9f454-29c6-4bda-9ec2-ef4328331734",
   "metadata": {},
   "outputs": [],
   "source": [
    "a = np.array([[1, 1],\n",
    "              [0, 1]])\n",
    "b = np.array([[2, 7],\n",
    "              [3, 4]])\n",
    "\n",
    "print(\n",
    "    a-b,\n",
    "    a+b**3,\n",
    "    a*np.sin(b),\n",
    "    a/b,\n",
    "    a@b,\n",
    "    a.dot(b),\n",
    "    # More operators Available\n",
    "sep='\\n\\n')"
   ]
  },
  {
   "cell_type": "code",
   "execution_count": null,
   "id": "ec78839f-439a-4e29-bda7-ea983ef7538f",
   "metadata": {},
   "outputs": [],
   "source": [
    "print(f\"Before:\\na=\\n{a}\\nb=\\n{b}\")\n",
    "a *= b\n",
    "# More operators Available\n",
    "print(f\"\\nAfter:\\na=\\n{a}\\nb=\\n{b}\")"
   ]
  },
  {
   "cell_type": "markdown",
   "id": "9ad714b7-32e1-4cd4-a03c-781b68f10b17",
   "metadata": {
    "jp-MarkdownHeadingCollapsed": true
   },
   "source": [
    "### Universal Functions (ufunc)"
   ]
  },
  {
   "cell_type": "code",
   "execution_count": null,
   "id": "a232fa29-95d8-40d7-9e4f-5f5cb8017d40",
   "metadata": {},
   "outputs": [],
   "source": [
    "a=np.arange(3)\n",
    "print(a)\n",
    "print(np.exp(a))\n",
    "print(np.sqrt(a))"
   ]
  },
  {
   "cell_type": "markdown",
   "id": "492d3e0e-1bd4-4539-ae16-c9c1ec0dcfa8",
   "metadata": {
    "jp-MarkdownHeadingCollapsed": true
   },
   "source": [
    "### Indexing Slicing"
   ]
  },
  {
   "cell_type": "code",
   "execution_count": null,
   "id": "7c91a1ec-c9d7-4cbb-9c66-da4936d8f29d",
   "metadata": {},
   "outputs": [],
   "source": [
    "arr = np.array([[10, 20, 30], [40, 50, 60], [70, 80, 90]])\n",
    "print(arr[1, 2], '\\n')#Basic Indexing\n",
    "print(arr[0:2, 1:3], '\\n')#Slicing\n",
    "print(arr[arr > 50], '\\n')#Boolean Indexing\n",
    "indices = [0, 2];print(arr[indices], '\\n')#Fancy Indexing\n",
    "print(arr[[0, 2]], '\\n')# Access specific rows\n",
    "print(arr[:, [0, 2]], '\\n')# Access specific columns"
   ]
  },
  {
   "cell_type": "markdown",
   "id": "cd6f6ba3-546a-4992-9504-12aaa5675694",
   "metadata": {
    "jp-MarkdownHeadingCollapsed": true
   },
   "source": [
    "### Iteration"
   ]
  },
  {
   "cell_type": "code",
   "execution_count": null,
   "id": "534769d1-abcf-4735-a411-8d93b34366e0",
   "metadata": {},
   "outputs": [],
   "source": [
    "for row in arr:\n",
    "    print(row)"
   ]
  },
  {
   "cell_type": "code",
   "execution_count": null,
   "id": "b1277276-a9bd-456f-a4ea-f132d086a8b8",
   "metadata": {},
   "outputs": [],
   "source": [
    "for i in arr.flat:\n",
    "    print(i, end='\\t')\n",
    "    \n",
    "print()\n",
    "\n",
    "for element in np.nditer(arr,op_flags=['readwrite'],order='F'):\n",
    "    print(element, end='\\t')\n",
    "\n",
    "print()\n",
    "\n",
    "for i in range(arr.shape[0]):  # iterate over rows\n",
    "    for j in range(arr.shape[1]):  # iterate over columns\n",
    "        print(arr[i, j], end='\\t')"
   ]
  },
  {
   "cell_type": "code",
   "execution_count": null,
   "id": "ef6529a4-3dcd-411c-a744-397252eac6d6",
   "metadata": {},
   "outputs": [],
   "source": [
    "for index, element in np.ndenumerate(arr):\n",
    "    print(index, element,end='\\t')\n",
    "\n",
    "print()\n",
    "\n",
    "for index in np.ndindex(arr.shape):\n",
    "    print(index, arr[index],end='\\t')\n",
    "\n",
    "print('\\n')"
   ]
  },
  {
   "cell_type": "code",
   "execution_count": null,
   "id": "dd5b1c41-2151-4dea-b9a5-9df66a637cc6",
   "metadata": {},
   "outputs": [],
   "source": [
    "vec_square = np.vectorize(lambda x:x**2)\n",
    "print(vec_square(arr))"
   ]
  },
  {
   "cell_type": "code",
   "execution_count": null,
   "id": "396f6215-09cc-463e-8ff5-c6d4f16da811",
   "metadata": {},
   "outputs": [],
   "source": [
    "for index, value in enumerate(arr):\n",
    "    print(f\"Index: {index}, Value: {value}\")"
   ]
  },
  {
   "cell_type": "markdown",
   "id": "82a37964-b911-408a-8aa4-ab2ec7574771",
   "metadata": {},
   "source": [
    "### Shape Manipulation"
   ]
  },
  {
   "cell_type": "code",
   "execution_count": null,
   "id": "2d77e5e0-c366-4808-8e77-a52bdf031a92",
   "metadata": {},
   "outputs": [],
   "source": [
    "arr=np.arange(30)\n",
    "arr2=arr.reshape(6,5)\n",
    "print(arr2)"
   ]
  },
  {
   "cell_type": "markdown",
   "id": "1cfbc0e5-b043-4910-bf5d-ad1859719c70",
   "metadata": {
    "jp-MarkdownHeadingCollapsed": true
   },
   "source": [
    "#### Array Stacking"
   ]
  },
  {
   "cell_type": "code",
   "execution_count": null,
   "id": "e6113e60-970f-42ad-a094-26dc577aca1c",
   "metadata": {},
   "outputs": [],
   "source": [
    "a=np.array([\n",
    "    [1,2],\n",
    "    [3,4]\n",
    "])\n",
    "\n",
    "b=np.array([\n",
    "    [5,6],\n",
    "    [7,8]\n",
    "])"
   ]
  },
  {
   "cell_type": "code",
   "execution_count": null,
   "id": "79572716-be6c-4224-b434-5767784388ab",
   "metadata": {},
   "outputs": [],
   "source": [
    "print(np.hstack((a,b)))#a and b are required to have same number of rows"
   ]
  },
  {
   "cell_type": "code",
   "execution_count": null,
   "id": "c5205ac2-51cd-4743-9ca6-59228d85ace9",
   "metadata": {},
   "outputs": [],
   "source": [
    "print(np.vstack((a, b)))#a and b are required to have same number of columns"
   ]
  },
  {
   "cell_type": "code",
   "execution_count": null,
   "id": "87f3352a-568c-46e5-8c9d-bfdb6de36966",
   "metadata": {},
   "outputs": [],
   "source": [
    "print(np.dstack((a,b)))#a and b are required to have same SHAPE because stacking is being done in other (here 3rd) axis"
   ]
  },
  {
   "cell_type": "code",
   "execution_count": null,
   "id": "e888e33c-7cf1-4529-9cd2-87560aae9118",
   "metadata": {},
   "outputs": [],
   "source": [
    "print(np.row_stack((a, b)))#Work as vstack; Raises DepracationWarning"
   ]
  },
  {
   "cell_type": "code",
   "execution_count": null,
   "id": "1d9a58c5-7efd-4578-bfc2-4bc870267873",
   "metadata": {},
   "outputs": [],
   "source": [
    "print(np.column_stack((a, b)))# Important # If arrays are 2D then works as np.hstack.\n",
    "#BUT if both arrays are 1D then considers both arrays as COLUMNS and create a 2D matrix\n",
    "#UNLIKE np.hstack which in case of 1D arrays returns 1D array with both arrays concatenated"
   ]
  },
  {
   "cell_type": "code",
   "execution_count": null,
   "id": "13d372b8-e311-4166-9c08-297364171da7",
   "metadata": {},
   "outputs": [],
   "source": [
    "# UNLIKE np.stack, This function does not create new dimension\n",
    "print(np.concatenate((a, b), axis=0))\n",
    "print('____________\\n')\n",
    "print(np.concatenate((a, b), axis=1))"
   ]
  },
  {
   "cell_type": "code",
   "execution_count": null,
   "id": "2753f2dc-c88b-411f-a72c-4f01d665d5c7",
   "metadata": {},
   "outputs": [],
   "source": [
    "# UNLIKE np.concatenate, This function creates new dimension\n",
    "print(np.stack((a, b), axis=0))\n",
    "print('_____________\\n')\n",
    "print(np.stack((a, b), axis=1))"
   ]
  },
  {
   "cell_type": "code",
   "execution_count": null,
   "id": "75a07cf4-e6e3-4af7-afea-6eaf6411f56e",
   "metadata": {},
   "outputs": [],
   "source": [
    "print(np.tile(a,reps=5))\n",
    "#Repeats the array a along each dimension specified by reps. This does not stack arrays per se, but it creates a repeated pattern."
   ]
  },
  {
   "cell_type": "code",
   "execution_count": null,
   "id": "77bd0467-afa5-48e9-a8af-575d58169cb8",
   "metadata": {},
   "outputs": [],
   "source": [
    "print(np.repeat(a,5, axis=1))\n",
    "#Repeats elements in the array along a specified axis. This also doesn’t strictly stack, but it can mimic stacking by repeating arrays."
   ]
  },
  {
   "cell_type": "markdown",
   "id": "32b5ee39-2c51-4d0f-be0d-00bae1f48848",
   "metadata": {},
   "source": [
    "#### Array Splitting"
   ]
  },
  {
   "cell_type": "code",
   "execution_count": null,
   "id": "fc0d76ca-696f-4113-851b-8f3f704481ed",
   "metadata": {},
   "outputs": [],
   "source": [
    "arr1 = np.arange(12)\n",
    "arr2 = np.array([[1, 2, 3], [4, 5, 6]])\n",
    "arr3 = np.array([[[1, 2], [3, 4]], [[5, 6], [7, 8]]])"
   ]
  },
  {
   "cell_type": "code",
   "execution_count": null,
   "id": "6b312050-9e86-43f0-9efd-e25cfa5b7c77",
   "metadata": {},
   "outputs": [],
   "source": [
    "print(np.split(arr1, 4),end='\\n\\n')# Split the array into 3 equal parts\n",
    "print(np.split(arr1, 5))# Raises Error due to uneven distribution"
   ]
  },
  {
   "cell_type": "code",
   "execution_count": 50,
   "id": "36dae71a-7934-450b-aea7-e0fc4dec3c12",
   "metadata": {},
   "outputs": [
    {
     "name": "stdout",
     "output_type": "stream",
     "text": [
      "[array([0, 1, 2]), array([3, 4, 5]), array([6, 7]), array([8, 9]), array([10, 11])]\n",
      "[array([0, 1, 2]), array([3, 4, 5]), array([6, 7, 8]), array([ 9, 10, 11])]\n"
     ]
    }
   ],
   "source": [
    "print(np.array_split(arr1, 5))# similar to np.split(), but it allows splitting an array into unequal parts\n",
    "print(np.array_split(arr1, 4))"
   ]
  },
  {
   "cell_type": "code",
   "execution_count": null,
   "id": "fbd9b2dc-1b1d-44a1-9dea-ce4527f2060f",
   "metadata": {},
   "outputs": [],
   "source": []
  }
 ],
 "metadata": {
  "kernelspec": {
   "display_name": "Python 3 (ipykernel)",
   "language": "python",
   "name": "python3"
  },
  "language_info": {
   "codemirror_mode": {
    "name": "ipython",
    "version": 3
   },
   "file_extension": ".py",
   "mimetype": "text/x-python",
   "name": "python",
   "nbconvert_exporter": "python",
   "pygments_lexer": "ipython3",
   "version": "3.12.6"
  }
 },
 "nbformat": 4,
 "nbformat_minor": 5
}
